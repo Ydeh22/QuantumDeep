{
 "cells": [
  {
   "cell_type": "code",
   "execution_count": 1,
   "id": "2a19fadf-2492-41de-9dde-5a62c31e4de7",
   "metadata": {},
   "outputs": [],
   "source": [
    "API_KEY = \"5bd4ecfdc74e6680da7c79998259781431661e5326ae2f88eea95dee8f74b87530ba63fbca8105404de4ffd36e4b484631907acff73c805580928218a5ccf0b3\""
   ]
  },
  {
   "cell_type": "code",
   "execution_count": 8,
   "id": "6154320a-c1bc-49ad-832c-88cd40b03399",
   "metadata": {},
   "outputs": [
    {
     "name": "stderr",
     "output_type": "stream",
     "text": [
      "configrc.store_credentials:WARNING:2021-08-24 13:00:41,865: Credentials already present. Set overwrite=True to overwrite.\n"
     ]
    }
   ],
   "source": [
    "import qiskit as q\n",
    "from qiskit import IBMQ,schedule\n",
    "import numpy as np\n",
    "\n",
    "import qiskit.pulse as pulse\n",
    "from qiskit.circuit import Parameter\n",
    "\n",
    "\n",
    "%matplotlib inline\n",
    "import sys\n",
    "sys.path.insert(0, '..') # Add qiskit_runtime directory to the path\n",
    "\n",
    "IBMQ.save_account(API_KEY)\n",
    "# Details in: https://qiskit.org/documentation/install.html "
   ]
  },
  {
   "cell_type": "code",
   "execution_count": 4,
   "id": "bd1b9806-eeac-4ea6-9dba-67d6333fa564",
   "metadata": {},
   "outputs": [
    {
     "name": "stderr",
     "output_type": "stream",
     "text": [
      "ibmqfactory.load_account:WARNING:2021-08-24 12:55:33,765: Credentials are already in use. The existing account in the session will be replaced.\n"
     ]
    },
    {
     "name": "stdout",
     "output_type": "stream",
     "text": [
      "ibmq_qasm_simulator has 3 queued and simulated qubits\n",
      "ibmq_armonk has 0 queued and simulated qubits\n",
      "ibmq_santiago has 224 queued and simulated qubits\n",
      "ibmq_bogota has 1 queued and simulated qubits\n",
      "ibmq_lima has 1 queued and simulated qubits\n",
      "ibmq_belem has 6 queued and simulated qubits\n",
      "ibmq_quito has 8 queued and simulated qubits\n",
      "simulator_statevector has 3 queued and simulated qubits\n",
      "simulator_mps has 3 queued and simulated qubits\n",
      "simulator_extended_stabilizer has 3 queued and simulated qubits\n",
      "simulator_stabilizer has 4 queued and simulated qubits\n",
      "ibmq_manila has 4 queued and simulated qubits\n"
     ]
    }
   ],
   "source": [
    "IBMQ.save_account(API_KEY, overwrite=True)\n",
    "IBMQ.load_account()\n",
    "\n",
    "provider = IBMQ.get_provider(\"ibm-q\")\n",
    "\n",
    "for backend in provider.backends():\n",
    "    try:\n",
    "        qubit_count = len(backend.properties().quibits)\n",
    "    except:\n",
    "        qubit_count = \"simulated\"\n",
    "        \n",
    "    print(f\"{backend.name()} has {backend.status().pending_jobs} queued and { qubit_count} qubits\")"
   ]
  },
  {
   "cell_type": "code",
   "execution_count": 5,
   "id": "5bed64b6-7c1c-41d0-95b4-9f449e0fdbdf",
   "metadata": {},
   "outputs": [],
   "source": [
    "from qiskit.tools.monitor import job_monitor\n",
    "backend = provider.get_backend(\"ibmq_lima\")"
   ]
  },
  {
   "cell_type": "code",
   "execution_count": null,
   "id": "2120eb67-3483-4525-8a40-5c0143353dba",
   "metadata": {},
   "outputs": [
    {
     "name": "stdout",
     "output_type": "stream",
     "text": [
      "c4id5n8qgbeufbpqkmg0\n",
      "JobStatus.QUEUED\n"
     ]
    }
   ],
   "source": [
    "provider = IBMQ.get_provider(\n",
    "\thub='ibm-q',\n",
    "\tgroup='open',\n",
    "\tproject='main'\n",
    ")\n",
    "\n",
    "options = {\n",
    "\t'backend_name': 'ibmq_qasm_simulator'\n",
    "}\n",
    "\n",
    "runtime_inputs = {\n",
    "\t# An instance of FeatureMap in\n",
    "  # dictionary format used to map\n",
    "  # classical data into a quantum\n",
    "  # state space.\n",
    "  'feature_map': None, # dict (required)\n",
    "\t\n",
    "\t# NxD array of training data,\n",
    "  # where N is the number\n",
    "  # of samples and D is\n",
    "  # the feature dimension.\n",
    "  'data': None, # numpy.ndarray (required)\n",
    "\t\n",
    "\t# Nx1 array of +/-1 labels\n",
    "  # of the N training samples.\n",
    "  'labels': None, # numpy.ndarray (required)\n",
    "\t\n",
    "\t# Initial parameters of the quantum\n",
    "  # kernel. If not specified, an\n",
    "  # array of randomly generated numbers\n",
    "  # is used.\n",
    "  'initial_kernel_parameters': None, # numpy.ndarray\n",
    "\t\n",
    "\t# Number of SPSA optimization steps.\n",
    "  # Default is 1.\n",
    "  'maxiters': None, # int\n",
    "\t\n",
    "\t# Penalty parameter for the soft-margin\n",
    "  # support vector machine. Default is\n",
    "  # 1.\n",
    "  'C': None, # float\n",
    "\t\n",
    "\t# Initial position of virtual qubits\n",
    "  # on the physical qubits of\n",
    "  # the quantum device. Default is\n",
    "  # None.\n",
    "  'initial_layout': None # list or dict\n",
    "}\n",
    "\n",
    "job = provider.runtime.run(\n",
    "\tprogram_id='quantum-kernel-alignment',\n",
    "\toptions=options,\n",
    "\tinputs=runtime_inputs\n",
    ")\n",
    "\n",
    "# Job id\n",
    "print(job.job_id())\n",
    "# See job status\n",
    "print(job.status())\n",
    "\n",
    "# Get results\n",
    "result = job.result()"
   ]
  }
 ],
 "metadata": {
  "kernelspec": {
   "display_name": "quantumdeep",
   "language": "python",
   "name": "quantumdeep"
  },
  "language_info": {
   "codemirror_mode": {
    "name": "ipython",
    "version": 3
   },
   "file_extension": ".py",
   "mimetype": "text/x-python",
   "name": "python",
   "nbconvert_exporter": "python",
   "pygments_lexer": "ipython3",
   "version": "3.9.6"
  }
 },
 "nbformat": 4,
 "nbformat_minor": 5
}
