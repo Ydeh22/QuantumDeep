{
 "cells": [
  {
   "cell_type": "code",
   "execution_count": null,
   "id": "db43af58-7d46-49e7-b894-0b856b314b3c",
   "metadata": {},
   "outputs": [],
   "source": [
    "# Quantum Kernel Alighment \n",
    "\n",
    "[Reference](https://quantumcomputing.com/Havry/projects/qiskit-runtime-quantum-kernel-alignment/files/main.py)"
   ]
  },
  {
   "cell_type": "code",
   "execution_count": 1,
   "id": "2a19fadf-2492-41de-9dde-5a62c31e4de7",
   "metadata": {},
   "outputs": [],
   "source": [
    "API_KEY = \"5bd4ecfdc74e6680da7c79998259781431661e5326ae2f88eea95dee8f74b87530ba63fbca8105404de4ffd36e4b484631907acff73c805580928218a5ccf0b3\""
   ]
  },
  {
   "cell_type": "code",
   "execution_count": 10,
   "id": "6154320a-c1bc-49ad-832c-88cd40b03399",
   "metadata": {},
   "outputs": [
    {
     "name": "stderr",
     "output_type": "stream",
     "text": [
      "ibmqfactory.load_account:WARNING:2021-08-25 15:23:55,589: Credentials are already in use. The existing account in the session will be replaced.\n"
     ]
    },
    {
     "data": {
      "text/plain": [
       "<AccountProvider for IBMQ(hub='ibm-q', group='open', project='main')>"
      ]
     },
     "execution_count": 10,
     "metadata": {},
     "output_type": "execute_result"
    }
   ],
   "source": [
    "import qiskit as q\n",
    "from qiskit import IBMQ,schedule\n",
    "import qiskit.pulse as pulse\n",
    "from qiskit.circuit import Parameter\n",
    "\n",
    "import numpy as np\n",
    "import pandas as pd \n",
    "\n",
    "\n",
    "from qka_files.qka import FeatureMap\n",
    "\n",
    "%matplotlib inline\n",
    "import sys\n",
    "sys.path.insert(0, '..') # Add qiskit_runtime directory to the path\n",
    "\n",
    "IBMQ.save_account(API_KEY, overwrite=True)\n",
    "IBMQ.load_account()\n",
    "\n",
    "# Details in: https://qiskit.org/documentation/install.html "
   ]
  },
  {
   "cell_type": "code",
   "execution_count": 11,
   "id": "bd1b9806-eeac-4ea6-9dba-67d6333fa564",
   "metadata": {},
   "outputs": [
    {
     "name": "stdout",
     "output_type": "stream",
     "text": [
      "ibmq_qasm_simulator has 4 queued and simulated qubits\n",
      "ibmq_armonk has 1 queued and simulated qubits\n",
      "ibmq_santiago has 232 queued and simulated qubits\n",
      "ibmq_bogota has 23 queued and simulated qubits\n",
      "ibmq_lima has 4 queued and simulated qubits\n",
      "ibmq_belem has 7 queued and simulated qubits\n",
      "ibmq_quito has 8 queued and simulated qubits\n",
      "simulator_statevector has 6 queued and simulated qubits\n",
      "simulator_mps has 6 queued and simulated qubits\n",
      "simulator_extended_stabilizer has 6 queued and simulated qubits\n",
      "simulator_stabilizer has 4 queued and simulated qubits\n",
      "ibmq_manila has 9 queued and simulated qubits\n"
     ]
    }
   ],
   "source": [
    "# --------------------------------\n",
    "# ✅ SETUP YOUR PROVIDER\n",
    "#\n",
    "# Assuming you've enabled Runtime, this should automatically work.\n",
    "# If not, 👉 https://app.quantumcomputing.com/runtime/enable\n",
    "provider = IBMQ.get_provider(\"ibm-q\",\n",
    "    group=\"open\",\n",
    "    project=\"main\")\n",
    "\n",
    "for backend in provider.backends():\n",
    "    try:\n",
    "        qubit_count = len(backend.properties().quibits)\n",
    "    except:\n",
    "        qubit_count = \"simulated\"\n",
    "        \n",
    "    print(f\"{backend.name()} has {backend.status().pending_jobs} queued and { qubit_count} qubits\")"
   ]
  },
  {
   "cell_type": "code",
   "execution_count": 21,
   "id": "5bed64b6-7c1c-41d0-95b4-9f449e0fdbdf",
   "metadata": {},
   "outputs": [],
   "source": [
    "# --------------------------------\n",
    "# ✅ SELECT A BACKEND\n",
    "\n",
    "# You can run on the simulator 💻 (🐇)\n",
    "\n",
    "\n",
    "from qiskit.tools.monitor import job_monitor\n",
    "#backend = provider.get_backend(\"ibmq_lima\")\n",
    "options = {'backend_name': \"ibmq_lima\"}"
   ]
  },
  {
   "cell_type": "code",
   "execution_count": 15,
   "id": "2120eb67-3483-4525-8a40-5c0143353dba",
   "metadata": {},
   "outputs": [],
   "source": [
    "# --------------------------------\n",
    "# ✅ READ IN SOME DATA\n",
    "df = pd.read_csv('qka_files/dataset_graph7.csv',sep=',', header=None) \n",
    "\n",
    "# this date is the one that will be used for the classification problem\n",
    "data = df.values\n",
    "\n",
    "# choose number of training and test samples per class 👩‍🏫:\n",
    "num_train = 5\n",
    "num_test = 5\n",
    "\n",
    "# extract training and test sets and sort them by class label\n",
    "train = data[:2*num_train, :]\n",
    "test = data[2*num_train:2*(num_train+num_test), :]\n",
    "\n",
    "ind=np.argsort(train[:,-1])\n",
    "x_train = train[ind][:,:-1]\n",
    "y_train = train[ind][:,-1]\n",
    "\n",
    "ind=np.argsort(test[:,-1])\n",
    "x_test = test[ind][:,:-1]\n",
    "y_test = test[ind][:,-1]\n"
   ]
  },
  {
   "cell_type": "code",
   "execution_count": 16,
   "id": "ff8015dd-6ee7-47c2-b68b-c4cd51a6a94e",
   "metadata": {},
   "outputs": [],
   "source": [
    "\n",
    "# feature dimension is twice the qubit number\n",
    "d = np.shape(data)[1]-1     \n",
    "\n",
    "# we'll match this to the 7-qubit graph\n",
    "em = [[0,2],[3,4],[2,5],[1,4],[2,3],[4,6]]    \n",
    "\n",
    "\n",
    "# define the feature map\n",
    "fm = FeatureMap(feature_dimension=d, entangler_map=em)\n",
    "\n",
    "# set the initial parameter for the feature map    \n",
    "initial_point = [0.1]   \n",
    "\n",
    "# SVM soft-margin penalty\n",
    "C = 1                                                           \n",
    "maxiters = 10    \n",
    "\n",
    "initial_layout = [0, 1, 2, 3, 4, 5, 6]     \n"
   ]
  },
  {
   "cell_type": "code",
   "execution_count": 19,
   "id": "0d042bf4-3aaf-448a-a507-473dd0f7c1e0",
   "metadata": {},
   "outputs": [],
   "source": [
    "# Setup a callback for our interim result\n",
    "def interim_result_callback(job_id, interim_result):\n",
    "    print(f\"interim result: {interim_result}\\n\")\n",
    "\n",
    "# Set our inputs\n",
    "program_inputs = {\n",
    "    'feature_map': fm,\n",
    "    'data': x_train,\n",
    "    'labels': y_train,\n",
    "    'initial_kernel_parameters': initial_point,\n",
    "    'maxiters': maxiters,\n",
    "    'C': C,\n",
    "    'initial_layout': initial_layout\n",
    "}\n"
   ]
  },
  {
   "cell_type": "code",
   "execution_count": 22,
   "id": "6d27871c-1701-481e-bb1b-3dce06648a28",
   "metadata": {},
   "outputs": [
    {
     "ename": "RequestsApiError",
     "evalue": "'403 Client Error: Forbidden for url: https://runtime-us-east.quantum-computing.ibm.com/jobs. '",
     "output_type": "error",
     "traceback": [
      "\u001b[0;31m---------------------------------------------------------------------------\u001b[0m",
      "\u001b[0;31mHTTPError\u001b[0m                                 Traceback (most recent call last)",
      "\u001b[0;32m~/anaconda3/envs/quantumdeep/lib/python3.9/site-packages/qiskit/providers/ibmq/api/session.py\u001b[0m in \u001b[0;36mrequest\u001b[0;34m(self, method, url, bare, **kwargs)\u001b[0m\n\u001b[1;32m    277\u001b[0m             \u001b[0mresponse\u001b[0m \u001b[0;34m=\u001b[0m \u001b[0msuper\u001b[0m\u001b[0;34m(\u001b[0m\u001b[0;34m)\u001b[0m\u001b[0;34m.\u001b[0m\u001b[0mrequest\u001b[0m\u001b[0;34m(\u001b[0m\u001b[0mmethod\u001b[0m\u001b[0;34m,\u001b[0m \u001b[0mfinal_url\u001b[0m\u001b[0;34m,\u001b[0m \u001b[0mheaders\u001b[0m\u001b[0;34m=\u001b[0m\u001b[0mheaders\u001b[0m\u001b[0;34m,\u001b[0m \u001b[0;34m**\u001b[0m\u001b[0mkwargs\u001b[0m\u001b[0;34m)\u001b[0m\u001b[0;34m\u001b[0m\u001b[0;34m\u001b[0m\u001b[0m\n\u001b[0;32m--> 278\u001b[0;31m             \u001b[0mresponse\u001b[0m\u001b[0;34m.\u001b[0m\u001b[0mraise_for_status\u001b[0m\u001b[0;34m(\u001b[0m\u001b[0;34m)\u001b[0m\u001b[0;34m\u001b[0m\u001b[0;34m\u001b[0m\u001b[0m\n\u001b[0m\u001b[1;32m    279\u001b[0m         \u001b[0;32mexcept\u001b[0m \u001b[0mRequestException\u001b[0m \u001b[0;32mas\u001b[0m \u001b[0mex\u001b[0m\u001b[0;34m:\u001b[0m\u001b[0;34m\u001b[0m\u001b[0;34m\u001b[0m\u001b[0m\n",
      "\u001b[0;32m~/anaconda3/envs/quantumdeep/lib/python3.9/site-packages/requests/models.py\u001b[0m in \u001b[0;36mraise_for_status\u001b[0;34m(self)\u001b[0m\n\u001b[1;32m    942\u001b[0m         \u001b[0;32mif\u001b[0m \u001b[0mhttp_error_msg\u001b[0m\u001b[0;34m:\u001b[0m\u001b[0;34m\u001b[0m\u001b[0;34m\u001b[0m\u001b[0m\n\u001b[0;32m--> 943\u001b[0;31m             \u001b[0;32mraise\u001b[0m \u001b[0mHTTPError\u001b[0m\u001b[0;34m(\u001b[0m\u001b[0mhttp_error_msg\u001b[0m\u001b[0;34m,\u001b[0m \u001b[0mresponse\u001b[0m\u001b[0;34m=\u001b[0m\u001b[0mself\u001b[0m\u001b[0;34m)\u001b[0m\u001b[0;34m\u001b[0m\u001b[0;34m\u001b[0m\u001b[0m\n\u001b[0m\u001b[1;32m    944\u001b[0m \u001b[0;34m\u001b[0m\u001b[0m\n",
      "\u001b[0;31mHTTPError\u001b[0m: 403 Client Error: Forbidden for url: https://runtime-us-east.quantum-computing.ibm.com/jobs",
      "\nThe above exception was the direct cause of the following exception:\n",
      "\u001b[0;31mRequestsApiError\u001b[0m                          Traceback (most recent call last)",
      "\u001b[0;32m<ipython-input-22-af587c9d7876>\u001b[0m in \u001b[0;36m<module>\u001b[0;34m\u001b[0m\n\u001b[1;32m      2\u001b[0m \u001b[0;31m# ✅ RUN THE PROGRAM\u001b[0m\u001b[0;34m\u001b[0m\u001b[0;34m\u001b[0m\u001b[0;34m\u001b[0m\u001b[0m\n\u001b[1;32m      3\u001b[0m \u001b[0;34m\u001b[0m\u001b[0m\n\u001b[0;32m----> 4\u001b[0;31m job = provider.runtime.run(program_id=\"quantum-kernel-alignment\",\n\u001b[0m\u001b[1;32m      5\u001b[0m                               \u001b[0moptions\u001b[0m\u001b[0;34m=\u001b[0m\u001b[0moptions\u001b[0m\u001b[0;34m,\u001b[0m\u001b[0;34m\u001b[0m\u001b[0;34m\u001b[0m\u001b[0m\n\u001b[1;32m      6\u001b[0m                               \u001b[0minputs\u001b[0m\u001b[0;34m=\u001b[0m\u001b[0mprogram_inputs\u001b[0m\u001b[0;34m,\u001b[0m\u001b[0;34m\u001b[0m\u001b[0;34m\u001b[0m\u001b[0m\n",
      "\u001b[0;32m~/anaconda3/envs/quantumdeep/lib/python3.9/site-packages/qiskit/providers/ibmq/runtime/ibm_runtime_service.py\u001b[0m in \u001b[0;36mrun\u001b[0;34m(self, program_id, options, inputs, callback, result_decoder)\u001b[0m\n\u001b[1;32m    235\u001b[0m         \u001b[0mparams_str\u001b[0m \u001b[0;34m=\u001b[0m \u001b[0mjson\u001b[0m\u001b[0;34m.\u001b[0m\u001b[0mdumps\u001b[0m\u001b[0;34m(\u001b[0m\u001b[0minputs\u001b[0m\u001b[0;34m,\u001b[0m \u001b[0mcls\u001b[0m\u001b[0;34m=\u001b[0m\u001b[0mRuntimeEncoder\u001b[0m\u001b[0;34m)\u001b[0m\u001b[0;34m\u001b[0m\u001b[0;34m\u001b[0m\u001b[0m\n\u001b[1;32m    236\u001b[0m         \u001b[0mresult_decoder\u001b[0m \u001b[0;34m=\u001b[0m \u001b[0mresult_decoder\u001b[0m \u001b[0;32mor\u001b[0m \u001b[0mResultDecoder\u001b[0m\u001b[0;34m\u001b[0m\u001b[0;34m\u001b[0m\u001b[0m\n\u001b[0;32m--> 237\u001b[0;31m         response = self._api_client.program_run(program_id=program_id,\n\u001b[0m\u001b[1;32m    238\u001b[0m                                                 \u001b[0mcredentials\u001b[0m\u001b[0;34m=\u001b[0m\u001b[0mself\u001b[0m\u001b[0;34m.\u001b[0m\u001b[0m_provider\u001b[0m\u001b[0;34m.\u001b[0m\u001b[0mcredentials\u001b[0m\u001b[0;34m,\u001b[0m\u001b[0;34m\u001b[0m\u001b[0;34m\u001b[0m\u001b[0m\n\u001b[1;32m    239\u001b[0m                                                 \u001b[0mbackend_name\u001b[0m\u001b[0;34m=\u001b[0m\u001b[0mbackend_name\u001b[0m\u001b[0;34m,\u001b[0m\u001b[0;34m\u001b[0m\u001b[0;34m\u001b[0m\u001b[0m\n",
      "\u001b[0;32m~/anaconda3/envs/quantumdeep/lib/python3.9/site-packages/qiskit/providers/ibmq/api/clients/runtime.py\u001b[0m in \u001b[0;36mprogram_run\u001b[0;34m(self, program_id, credentials, backend_name, params)\u001b[0m\n\u001b[1;32m    139\u001b[0m             \u001b[0mJSON\u001b[0m \u001b[0mresponse\u001b[0m\u001b[0;34m.\u001b[0m\u001b[0;34m\u001b[0m\u001b[0;34m\u001b[0m\u001b[0m\n\u001b[1;32m    140\u001b[0m         \"\"\"\n\u001b[0;32m--> 141\u001b[0;31m         return self.api.program_run(program_id=program_id, hub=credentials.hub,\n\u001b[0m\u001b[1;32m    142\u001b[0m                                     \u001b[0mgroup\u001b[0m\u001b[0;34m=\u001b[0m\u001b[0mcredentials\u001b[0m\u001b[0;34m.\u001b[0m\u001b[0mgroup\u001b[0m\u001b[0;34m,\u001b[0m \u001b[0mproject\u001b[0m\u001b[0;34m=\u001b[0m\u001b[0mcredentials\u001b[0m\u001b[0;34m.\u001b[0m\u001b[0mproject\u001b[0m\u001b[0;34m,\u001b[0m\u001b[0;34m\u001b[0m\u001b[0;34m\u001b[0m\u001b[0m\n\u001b[1;32m    143\u001b[0m                                     backend_name=backend_name, params=params)\n",
      "\u001b[0;32m~/anaconda3/envs/quantumdeep/lib/python3.9/site-packages/qiskit/providers/ibmq/api/rest/runtime.py\u001b[0m in \u001b[0;36mprogram_run\u001b[0;34m(self, program_id, hub, group, project, backend_name, params)\u001b[0m\n\u001b[1;32m    149\u001b[0m         }\n\u001b[1;32m    150\u001b[0m         \u001b[0mdata\u001b[0m \u001b[0;34m=\u001b[0m \u001b[0mjson\u001b[0m\u001b[0;34m.\u001b[0m\u001b[0mdumps\u001b[0m\u001b[0;34m(\u001b[0m\u001b[0mpayload\u001b[0m\u001b[0;34m)\u001b[0m\u001b[0;34m\u001b[0m\u001b[0;34m\u001b[0m\u001b[0m\n\u001b[0;32m--> 151\u001b[0;31m         \u001b[0;32mreturn\u001b[0m \u001b[0mself\u001b[0m\u001b[0;34m.\u001b[0m\u001b[0msession\u001b[0m\u001b[0;34m.\u001b[0m\u001b[0mpost\u001b[0m\u001b[0;34m(\u001b[0m\u001b[0murl\u001b[0m\u001b[0;34m,\u001b[0m \u001b[0mdata\u001b[0m\u001b[0;34m=\u001b[0m\u001b[0mdata\u001b[0m\u001b[0;34m)\u001b[0m\u001b[0;34m.\u001b[0m\u001b[0mjson\u001b[0m\u001b[0;34m(\u001b[0m\u001b[0;34m)\u001b[0m\u001b[0;34m\u001b[0m\u001b[0;34m\u001b[0m\u001b[0m\n\u001b[0m\u001b[1;32m    152\u001b[0m \u001b[0;34m\u001b[0m\u001b[0m\n\u001b[1;32m    153\u001b[0m     \u001b[0;32mdef\u001b[0m \u001b[0mjobs_get\u001b[0m\u001b[0;34m(\u001b[0m\u001b[0mself\u001b[0m\u001b[0;34m,\u001b[0m \u001b[0mlimit\u001b[0m\u001b[0;34m:\u001b[0m \u001b[0mint\u001b[0m \u001b[0;34m=\u001b[0m \u001b[0;32mNone\u001b[0m\u001b[0;34m,\u001b[0m \u001b[0mskip\u001b[0m\u001b[0;34m:\u001b[0m \u001b[0mint\u001b[0m \u001b[0;34m=\u001b[0m \u001b[0;32mNone\u001b[0m\u001b[0;34m,\u001b[0m \u001b[0mpending\u001b[0m\u001b[0;34m:\u001b[0m \u001b[0mbool\u001b[0m \u001b[0;34m=\u001b[0m \u001b[0;32mNone\u001b[0m\u001b[0;34m)\u001b[0m \u001b[0;34m->\u001b[0m \u001b[0mDict\u001b[0m\u001b[0;34m:\u001b[0m\u001b[0;34m\u001b[0m\u001b[0;34m\u001b[0m\u001b[0m\n",
      "\u001b[0;32m~/anaconda3/envs/quantumdeep/lib/python3.9/site-packages/requests/sessions.py\u001b[0m in \u001b[0;36mpost\u001b[0;34m(self, url, data, json, **kwargs)\u001b[0m\n\u001b[1;32m    588\u001b[0m         \"\"\"\n\u001b[1;32m    589\u001b[0m \u001b[0;34m\u001b[0m\u001b[0m\n\u001b[0;32m--> 590\u001b[0;31m         \u001b[0;32mreturn\u001b[0m \u001b[0mself\u001b[0m\u001b[0;34m.\u001b[0m\u001b[0mrequest\u001b[0m\u001b[0;34m(\u001b[0m\u001b[0;34m'POST'\u001b[0m\u001b[0;34m,\u001b[0m \u001b[0murl\u001b[0m\u001b[0;34m,\u001b[0m \u001b[0mdata\u001b[0m\u001b[0;34m=\u001b[0m\u001b[0mdata\u001b[0m\u001b[0;34m,\u001b[0m \u001b[0mjson\u001b[0m\u001b[0;34m=\u001b[0m\u001b[0mjson\u001b[0m\u001b[0;34m,\u001b[0m \u001b[0;34m**\u001b[0m\u001b[0mkwargs\u001b[0m\u001b[0;34m)\u001b[0m\u001b[0;34m\u001b[0m\u001b[0;34m\u001b[0m\u001b[0m\n\u001b[0m\u001b[1;32m    591\u001b[0m \u001b[0;34m\u001b[0m\u001b[0m\n\u001b[1;32m    592\u001b[0m     \u001b[0;32mdef\u001b[0m \u001b[0mput\u001b[0m\u001b[0;34m(\u001b[0m\u001b[0mself\u001b[0m\u001b[0;34m,\u001b[0m \u001b[0murl\u001b[0m\u001b[0;34m,\u001b[0m \u001b[0mdata\u001b[0m\u001b[0;34m=\u001b[0m\u001b[0;32mNone\u001b[0m\u001b[0;34m,\u001b[0m \u001b[0;34m**\u001b[0m\u001b[0mkwargs\u001b[0m\u001b[0;34m)\u001b[0m\u001b[0;34m:\u001b[0m\u001b[0;34m\u001b[0m\u001b[0;34m\u001b[0m\u001b[0m\n",
      "\u001b[0;32m~/anaconda3/envs/quantumdeep/lib/python3.9/site-packages/qiskit/providers/ibmq/api/session.py\u001b[0m in \u001b[0;36mrequest\u001b[0;34m(self, method, url, bare, **kwargs)\u001b[0m\n\u001b[1;32m    298\u001b[0m                 \u001b[0mself\u001b[0m\u001b[0;34m.\u001b[0m\u001b[0m_modify_chained_exception_messages\u001b[0m\u001b[0;34m(\u001b[0m\u001b[0mex\u001b[0m\u001b[0;34m)\u001b[0m\u001b[0;34m\u001b[0m\u001b[0;34m\u001b[0m\u001b[0m\n\u001b[1;32m    299\u001b[0m \u001b[0;34m\u001b[0m\u001b[0m\n\u001b[0;32m--> 300\u001b[0;31m             \u001b[0;32mraise\u001b[0m \u001b[0mRequestsApiError\u001b[0m\u001b[0;34m(\u001b[0m\u001b[0mmessage\u001b[0m\u001b[0;34m,\u001b[0m \u001b[0mstatus_code\u001b[0m\u001b[0;34m)\u001b[0m \u001b[0;32mfrom\u001b[0m \u001b[0mex\u001b[0m\u001b[0;34m\u001b[0m\u001b[0;34m\u001b[0m\u001b[0m\n\u001b[0m\u001b[1;32m    301\u001b[0m \u001b[0;34m\u001b[0m\u001b[0m\n\u001b[1;32m    302\u001b[0m         \u001b[0;32mreturn\u001b[0m \u001b[0mresponse\u001b[0m\u001b[0;34m\u001b[0m\u001b[0;34m\u001b[0m\u001b[0m\n",
      "\u001b[0;31mRequestsApiError\u001b[0m: '403 Client Error: Forbidden for url: https://runtime-us-east.quantum-computing.ibm.com/jobs. '"
     ]
    }
   ],
   "source": [
    "# --------------------------------\n",
    "# ✅ RUN THE PROGRAM\n",
    "\n",
    "job = provider.runtime.run(program_id=\"quantum-kernel-alignment\",\n",
    "                              options=options,\n",
    "                              inputs=program_inputs,\n",
    "                              callback=interim_result_callback,\n",
    "                              )\n",
    "\n",
    "print(\"🖼 Circuit for the feature map:\")\n",
    "strangeworks.qiskit.extract_diagram(fm.construct_circuit(x=x_train[0], parameters=initial_point))\n",
    "\n",
    "\n",
    "# --------------------------------\n",
    "# ✅ GET THE FINAL RESULT\n",
    "\n",
    "# Execution will pause here until the result returns\n",
    "result = job.result()\n",
    "\n",
    "# And finally, we'll display the output\n",
    "strangeworks.print(result, type=\"log\", label=\"Final Result\")\n",
    "\n",
    "# 🎉 Yay, Runtime success!\n",
    "#\n",
    "# ⏭ Try other programs here:\n",
    "# https://app.quantumcomputing.com/runtime/"
   ]
  }
 ],
 "metadata": {
  "kernelspec": {
   "display_name": "quantumdeep",
   "language": "python",
   "name": "quantumdeep"
  },
  "language_info": {
   "codemirror_mode": {
    "name": "ipython",
    "version": 3
   },
   "file_extension": ".py",
   "mimetype": "text/x-python",
   "name": "python",
   "nbconvert_exporter": "python",
   "pygments_lexer": "ipython3",
   "version": "3.9.6"
  }
 },
 "nbformat": 4,
 "nbformat_minor": 5
}
