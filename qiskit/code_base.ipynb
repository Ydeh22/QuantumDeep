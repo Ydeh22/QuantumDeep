{
 "cells": [
  {
   "cell_type": "code",
   "execution_count": 10,
   "id": "2a19fadf-2492-41de-9dde-5a62c31e4de7",
   "metadata": {},
   "outputs": [],
   "source": [
    "API_KEY = \"5bd4ecfdc74e6680da7c79998259781431661e5326ae2f88eea95dee8f74b87530ba63fbca8105404de4ffd36e4b484631907acff73c805580928218a5ccf0b3\""
   ]
  },
  {
   "cell_type": "code",
   "execution_count": 11,
   "id": "6154320a-c1bc-49ad-832c-88cd40b03399",
   "metadata": {},
   "outputs": [
    {
     "name": "stderr",
     "output_type": "stream",
     "text": [
      "configrc.store_credentials:WARNING:2021-08-24 13:13:03,586: Credentials already present. Set overwrite=True to overwrite.\n"
     ]
    }
   ],
   "source": [
    "import qiskit as q\n",
    "from qiskit import IBMQ,schedule\n",
    "import numpy as np\n",
    "\n",
    "import qiskit.pulse as pulse\n",
    "from qiskit.circuit import Parameter\n",
    "\n",
    "\n",
    "%matplotlib inline\n",
    "import sys\n",
    "sys.path.insert(0, '..') # Add qiskit_runtime directory to the path\n",
    "\n",
    "IBMQ.save_account(API_KEY)\n",
    "# Details in: https://qiskit.org/documentation/install.html "
   ]
  },
  {
   "cell_type": "code",
   "execution_count": 12,
   "id": "bd1b9806-eeac-4ea6-9dba-67d6333fa564",
   "metadata": {},
   "outputs": [
    {
     "name": "stderr",
     "output_type": "stream",
     "text": [
      "ibmqfactory.load_account:WARNING:2021-08-24 13:13:04,316: Credentials are already in use. The existing account in the session will be replaced.\n"
     ]
    },
    {
     "name": "stdout",
     "output_type": "stream",
     "text": [
      "ibmq_qasm_simulator has 3 queued and simulated qubits\n",
      "ibmq_armonk has 0 queued and simulated qubits\n",
      "ibmq_santiago has 221 queued and simulated qubits\n",
      "ibmq_bogota has 1 queued and simulated qubits\n",
      "ibmq_lima has 1 queued and simulated qubits\n",
      "ibmq_belem has 6 queued and simulated qubits\n",
      "ibmq_quito has 13 queued and simulated qubits\n",
      "simulator_statevector has 3 queued and simulated qubits\n",
      "simulator_mps has 3 queued and simulated qubits\n",
      "simulator_extended_stabilizer has 3 queued and simulated qubits\n",
      "simulator_stabilizer has 3 queued and simulated qubits\n",
      "ibmq_manila has 8 queued and simulated qubits\n"
     ]
    }
   ],
   "source": [
    "IBMQ.save_account(API_KEY, overwrite=True)\n",
    "IBMQ.load_account()\n",
    "\n",
    "provider = IBMQ.get_provider(\"ibm-q\")\n",
    "\n",
    "for backend in provider.backends():\n",
    "    try:\n",
    "        qubit_count = len(backend.properties().quibits)\n",
    "    except:\n",
    "        qubit_count = \"simulated\"\n",
    "        \n",
    "    print(f\"{backend.name()} has {backend.status().pending_jobs} queued and { qubit_count} qubits\")"
   ]
  },
  {
   "cell_type": "code",
   "execution_count": 13,
   "id": "5bed64b6-7c1c-41d0-95b4-9f449e0fdbdf",
   "metadata": {},
   "outputs": [],
   "source": [
    "from qiskit.tools.monitor import job_monitor\n",
    "backend = provider.get_backend(\"ibmq_lima\")"
   ]
  },
  {
   "cell_type": "code",
   "execution_count": 18,
   "id": "fddeee58-b4ad-46b5-b4b8-924678ac047e",
   "metadata": {},
   "outputs": [],
   "source": [
    "# Checking for backend support \n",
    "# https://github.com/delapuente/qiskit-runtime/#test-server"
   ]
  },
  {
   "cell_type": "code",
   "execution_count": 14,
   "id": "db369a6e-4886-4e70-a7d7-6d6c6f56cbd0",
   "metadata": {},
   "outputs": [
    {
     "name": "stderr",
     "output_type": "stream",
     "text": [
      "ibmqfactory.load_account:WARNING:2021-08-24 13:13:19,487: Credentials are already in use. The existing account in the session will be replaced.\n"
     ]
    },
    {
     "name": "stdout",
     "output_type": "stream",
     "text": [
      "Do I have access to Qiskit Runtime? True\n"
     ]
    }
   ],
   "source": [
    "from qiskit import IBMQ\n",
    "\n",
    "provider = IBMQ.load_account()\n",
    "print(f\"Do I have access to Qiskit Runtime? {provider.has_service('runtime')}\")\n"
   ]
  },
  {
   "cell_type": "code",
   "execution_count": 16,
   "id": "e03766c9-742f-4c18-b885-28bbe565513f",
   "metadata": {},
   "outputs": [
    {
     "name": "stdout",
     "output_type": "stream",
     "text": [
      "Does ibmq_lima support Qiskit Runtime? False\n"
     ]
    }
   ],
   "source": [
    "backend = provider.backend.ibmq_lima\n",
    "support_runtime = 'runtime' in backend.configuration().input_allowed\n",
    "print(f\"Does {backend.name()} support Qiskit Runtime? {support_runtime}\")\n"
   ]
  },
  {
   "cell_type": "code",
   "execution_count": 17,
   "id": "c5ae012b-3042-41a9-b2c8-4e62aace5899",
   "metadata": {},
   "outputs": [
    {
     "name": "stdout",
     "output_type": "stream",
     "text": [
      "Backends that support Qiskit Runtime: [<IBMQSimulator('ibmq_qasm_simulator') from IBMQ(hub='ibm-q', group='open', project='main')>]\n"
     ]
    }
   ],
   "source": [
    "# Get a list of all backends that support runtime.\n",
    "runtime_backends = provider.backends(input_allowed='runtime')\n",
    "print(f\"Backends that support Qiskit Runtime: {runtime_backends}\")\n"
   ]
  }
 ],
 "metadata": {
  "kernelspec": {
   "display_name": "quantumdeep",
   "language": "python",
   "name": "quantumdeep"
  },
  "language_info": {
   "codemirror_mode": {
    "name": "ipython",
    "version": 3
   },
   "file_extension": ".py",
   "mimetype": "text/x-python",
   "name": "python",
   "nbconvert_exporter": "python",
   "pygments_lexer": "ipython3",
   "version": "3.9.6"
  }
 },
 "nbformat": 4,
 "nbformat_minor": 5
}
