{
 "cells": [
  {
   "cell_type": "markdown",
   "metadata": {},
   "source": [
    "# [Defining the quantum system](https://www.netket.org/tutorials/jax.html)\n",
    "\n",
    " Transverse-field Ising model defined on a graph with random edges"
   ]
  },
  {
   "cell_type": "code",
   "execution_count": 8,
   "metadata": {},
   "outputs": [],
   "source": [
    "# ensure we run on the CPU and not on the GPU\n",
    "import os\n",
    "os.environ[\"JAX_PLATFORM_NAME\"] = \"cpu\""
   ]
  },
  {
   "cell_type": "code",
   "execution_count": 2,
   "metadata": {},
   "outputs": [],
   "source": [
    "\n",
    "import netket as nk"
   ]
  },
  {
   "cell_type": "code",
   "execution_count": 4,
   "metadata": {},
   "outputs": [],
   "source": [
    "#Define a random graph\n",
    "n_nodes=10\n",
    "n_edges=20\n",
    "from numpy.random import choice\n",
    "rand_edges=[choice(n_nodes, size=2,replace=False).tolist() for i in range(n_edges)]\n",
    "\n",
    "graph=nk.graph.Graph(nodes=[i for i in range(n_nodes)], edges=rand_edges)\n",
    "\n",
    "\n",
    "#Define the local hilbert space\n",
    "hi=nk.hilbert.Spin(s=0.5)**graph.n_nodes"
   ]
  },
  {
   "cell_type": "code",
   "execution_count": 7,
   "metadata": {},
   "outputs": [
    {
     "data": {
      "text/plain": [
       "Spin(s=1/2, N=10)"
      ]
     },
     "execution_count": 7,
     "metadata": {},
     "output_type": "execute_result"
    }
   ],
   "source": [
    "hi"
   ]
  },
  {
   "cell_type": "code",
   "execution_count": 6,
   "metadata": {},
   "outputs": [],
   "source": [
    "\n",
    "#Define the Hamiltonian as a sum of local operators\n",
    "from netket.operator import LocalOperator as Op\n",
    "\n",
    "# Pauli Matrices\n",
    "sx = [[0, 1], [1, 0]]\n",
    "sz = [[1, 0], [0, -1]]\n",
    "\n",
    "\n",
    "# Defining the Hamiltonian as a LocalOperator acting on the given Hilbert space\n",
    "ha = Op(hi)\n",
    "\n",
    "#Adding a transverse field term on each node of the graph\n",
    "for i in range(graph.n_nodes):\n",
    "    ha += Op(hi, sx, [i])\n",
    "\n",
    "#Adding nearest-neighbors interactions on the edges of the given graph\n",
    "from numpy import kron\n",
    "J=0.5\n",
    "for edge in graph.edges():\n",
    "    ha += J*Op(hi, kron(sz, sz), edge)\n",
    "\n",
    "\n"
   ]
  },
  {
   "cell_type": "markdown",
   "metadata": {},
   "source": [
    "# Defining a JAX module to be used as a wave function"
   ]
  },
  {
   "cell_type": "code",
   "execution_count": 9,
   "metadata": {},
   "outputs": [],
   "source": [
    "import jax\n",
    "from jax.experimental import stax\n",
    "\n",
    "#We define a custom layer that performs the sum of its inputs\n",
    "def SumLayer():\n",
    "    def init_fun(rng, input_shape):\n",
    "        output_shape = (-1, 1)\n",
    "        return output_shape, ()\n",
    "\n",
    "    def apply_fun(params, inputs, **kwargs):\n",
    "        return inputs.sum(axis=-1)\n",
    "\n",
    "    return init_fun, apply_fun\n",
    "\n",
    "#We construct a fully connected network with tanh activation\n",
    "model=stax.serial(stax.Dense(2 * graph.n_nodes, W_init=nk.nn.initializers.normal(stddev=0.1, dtype=complex),\n",
    "                             b_init=nk.nn.initializers.normal(stddev=0.1, dtype=complex)),\n",
    "                  stax.Tanh,SumLayer())"
   ]
  },
  {
   "cell_type": "markdown",
   "metadata": {},
   "source": [
    "# Train the neural network to find an approximate ground state"
   ]
  },
  {
   "cell_type": "code",
   "execution_count": 10,
   "metadata": {},
   "outputs": [],
   "source": [
    "# Defining a sampler that performs local moves\n",
    "# NetKet automatically dispatches here to MCMC sampler written using JAX types\n",
    "sa = nk.sampler.MetropolisLocal(hilbert=hi, n_chains=2)"
   ]
  },
  {
   "cell_type": "code",
   "execution_count": 14,
   "metadata": {},
   "outputs": [
    {
     "name": "stderr",
     "output_type": "stream",
     "text": [
      "/home/sebasmos/anaconda3/envs/QuantumDeep/lib/python3.8/site-packages/netket/variational.py:29: FutureWarning: The `netket.variational` module is deprecated. Use `netket.vqs` instead.\n",
      "To fix this warning, change `netket.variational.MCState to `netket.vqs.MCState`.\n",
      "  _warn_deprecation(\n"
     ]
    }
   ],
   "source": [
    "# Defining a sampler that performs local moves\n",
    "# NetKet automatically dispatches here to MCMC sampler written using JAX types\n",
    "sa = nk.sampler.MetropolisLocal(hilbert=hi, n_chains=2)\n",
    "\n",
    "# Construct the variational state\n",
    "vs = nk.variational.MCState(sa, model, n_samples=1000)"
   ]
  },
  {
   "cell_type": "code",
   "execution_count": 18,
   "metadata": {},
   "outputs": [],
   "source": [
    "# Using Sgd\n",
    "# Also dispatching to JAX optimizer\n",
    "op = nk.optimizer.Sgd(learning_rate=0.01)\n",
    "\n",
    "# Using Stochastic Reconfiguration a.k.a. quantum natural gradient\n",
    "# Also dispatching to a pure JAX version\n",
    "sr = nk.optimizer.SR(diag_shift=0.01)\n",
    "\n",
    "# Create the Variational Monte Carlo instance to learn the ground state\n",
    "vmc = nk.VMC(\n",
    "    hamiltonian=ha, optimizer=op, variational_state=vs, preconditioner=sr\n",
    ")"
   ]
  },
  {
   "cell_type": "code",
   "execution_count": 19,
   "metadata": {},
   "outputs": [
    {
     "name": "stdout",
     "output_type": "stream",
     "text": [
      "0 5.98-0.05j ± 0.13 [σ²=11.59, R̂=0.9998]\n",
      "50 -6.57-0.09j ± 0.13 [σ²=9.37, R̂=0.9993]\n",
      "100 -9.312-0.064j ± 0.046 [σ²=1.689, R̂=0.9997]\n",
      "150 -10.067-0.000j ± 0.039 [σ²=0.796, R̂=1.0050]\n",
      "200 -10.415+0.003j ± 0.041 [σ²=1.115, R̂=0.9997]\n",
      "250 -10.711-0.005j ± 0.021 [σ²=0.312, R̂=0.9991]\n",
      "300 -10.843-0.025j ± 0.018 [σ²=0.246, R̂=0.9990]\n",
      "350 -10.947-0.014j ± 0.015 [σ²=0.182, R̂=0.9991]\n",
      "400 -11.146-0.009j ± 0.022 [σ²=0.322, R̂=1.0004]\n",
      "450 -11.366-0.009j ± 0.021 [σ²=0.193, R̂=0.9998]\n"
     ]
    }
   ],
   "source": [
    "# Running the learning loop and printing the energy every 50 steps\n",
    "# [notice that the very first iteration is slow because of JIT compilation]\n",
    "for it in vmc.iter(500,50):\n",
    "    print(it,vmc.energy)"
   ]
  },
  {
   "cell_type": "code",
   "execution_count": 20,
   "metadata": {},
   "outputs": [
    {
     "name": "stdout",
     "output_type": "stream",
     "text": [
      "Exact energy is :  -11.550612728038686\n",
      "Relative error is :  0.006060526726524103\n"
     ]
    }
   ],
   "source": [
    "import scipy\n",
    "exact_ens=scipy.sparse.linalg.eigsh(ha.to_sparse(),k=1,which='SA',return_eigenvectors=False)\n",
    "print(\"Exact energy is : \",exact_ens[0])\n",
    "print(\"Relative error is : \", (abs((vmc.energy.mean-exact_ens[0])/exact_ens[0])))"
   ]
  },
  {
   "cell_type": "code",
   "execution_count": null,
   "metadata": {},
   "outputs": [],
   "source": []
  }
 ],
 "metadata": {
  "interpreter": {
   "hash": "a02314ebe1f780f8d92a149046fe34e85d23e29a7bac9b5ca57eb7c32c8b4e4f"
  },
  "kernelspec": {
   "display_name": "Python 3.8.8 64-bit ('QuantumDeep': conda)",
   "name": "python3"
  },
  "language_info": {
   "codemirror_mode": {
    "name": "ipython",
    "version": 3
   },
   "file_extension": ".py",
   "mimetype": "text/x-python",
   "name": "python",
   "nbconvert_exporter": "python",
   "pygments_lexer": "ipython3",
   "version": "3.8.8"
  },
  "orig_nbformat": 4
 },
 "nbformat": 4,
 "nbformat_minor": 2
}