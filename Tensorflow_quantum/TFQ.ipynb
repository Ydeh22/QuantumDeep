{
 "cells": [
  {
   "cell_type": "markdown",
   "id": "focal-hayes",
   "metadata": {},
   "source": [
    "# Cirq introduction tutorials - [part 1](https://www.tensorflow.org/quantum/tutorials/hello_many_worlds)"
   ]
  },
  {
   "cell_type": "code",
   "execution_count": 1,
   "id": "colored-briefing",
   "metadata": {},
   "outputs": [
    {
     "name": "stdout",
     "output_type": "stream",
     "text": [
      "Requirement already satisfied: tensorflow==2.4.1 in /home/sebasmos/anaconda3/envs/QuantumDeep/lib/python3.8/site-packages (2.4.1)\n",
      "Requirement already satisfied: termcolor~=1.1.0 in /home/sebasmos/.local/lib/python3.8/site-packages (from tensorflow==2.4.1) (1.1.0)\n",
      "Requirement already satisfied: keras-preprocessing~=1.1.2 in /home/sebasmos/.local/lib/python3.8/site-packages (from tensorflow==2.4.1) (1.1.2)\n",
      "Requirement already satisfied: six~=1.15.0 in /home/sebasmos/.local/lib/python3.8/site-packages (from tensorflow==2.4.1) (1.15.0)\n",
      "Requirement already satisfied: tensorboard~=2.4 in /home/sebasmos/anaconda3/envs/QuantumDeep/lib/python3.8/site-packages (from tensorflow==2.4.1) (2.5.0)\n",
      "Requirement already satisfied: wheel~=0.35 in /home/sebasmos/.local/lib/python3.8/site-packages (from tensorflow==2.4.1) (0.36.2)\n",
      "Requirement already satisfied: wrapt~=1.12.1 in /home/sebasmos/.local/lib/python3.8/site-packages (from tensorflow==2.4.1) (1.12.1)\n",
      "Requirement already satisfied: tensorflow-estimator<2.5.0,>=2.4.0 in /home/sebasmos/anaconda3/envs/QuantumDeep/lib/python3.8/site-packages (from tensorflow==2.4.1) (2.4.0)\n",
      "Requirement already satisfied: google-pasta~=0.2 in /home/sebasmos/.local/lib/python3.8/site-packages (from tensorflow==2.4.1) (0.2.0)\n",
      "Requirement already satisfied: grpcio~=1.32.0 in /home/sebasmos/.local/lib/python3.8/site-packages (from tensorflow==2.4.1) (1.32.0)\n",
      "Requirement already satisfied: numpy~=1.19.2 in /home/sebasmos/anaconda3/envs/QuantumDeep/lib/python3.8/site-packages (from tensorflow==2.4.1) (1.19.5)\n",
      "Requirement already satisfied: absl-py~=0.10 in /home/sebasmos/.local/lib/python3.8/site-packages (from tensorflow==2.4.1) (0.10.0)\n",
      "Requirement already satisfied: opt-einsum~=3.3.0 in /home/sebasmos/.local/lib/python3.8/site-packages (from tensorflow==2.4.1) (3.3.0)\n",
      "Requirement already satisfied: typing-extensions~=3.7.4 in /home/sebasmos/.local/lib/python3.8/site-packages (from tensorflow==2.4.1) (3.7.4.3)\n",
      "Requirement already satisfied: protobuf>=3.9.2 in /home/sebasmos/anaconda3/envs/QuantumDeep/lib/python3.8/site-packages (from tensorflow==2.4.1) (3.13.0)\n",
      "Requirement already satisfied: gast==0.3.3 in /home/sebasmos/.local/lib/python3.8/site-packages (from tensorflow==2.4.1) (0.3.3)\n",
      "Requirement already satisfied: astunparse~=1.6.3 in /home/sebasmos/.local/lib/python3.8/site-packages (from tensorflow==2.4.1) (1.6.3)\n",
      "Requirement already satisfied: h5py~=2.10.0 in /home/sebasmos/.local/lib/python3.8/site-packages (from tensorflow==2.4.1) (2.10.0)\n",
      "Requirement already satisfied: flatbuffers~=1.12.0 in /home/sebasmos/.local/lib/python3.8/site-packages (from tensorflow==2.4.1) (1.12)\n",
      "Requirement already satisfied: setuptools in /home/sebasmos/.local/lib/python3.8/site-packages (from protobuf>=3.9.2->tensorflow==2.4.1) (53.0.0)\n",
      "Requirement already satisfied: werkzeug>=0.11.15 in /home/sebasmos/.local/lib/python3.8/site-packages (from tensorboard~=2.4->tensorflow==2.4.1) (1.0.1)\n",
      "Requirement already satisfied: google-auth<2,>=1.6.3 in /home/sebasmos/anaconda3/envs/QuantumDeep/lib/python3.8/site-packages (from tensorboard~=2.4->tensorflow==2.4.1) (1.18.0)\n",
      "Requirement already satisfied: markdown>=2.6.8 in /home/sebasmos/.local/lib/python3.8/site-packages (from tensorboard~=2.4->tensorflow==2.4.1) (3.3.4)\n",
      "Requirement already satisfied: google-auth-oauthlib<0.5,>=0.4.1 in /home/sebasmos/.local/lib/python3.8/site-packages (from tensorboard~=2.4->tensorflow==2.4.1) (0.4.2)\n",
      "Requirement already satisfied: tensorboard-plugin-wit>=1.6.0 in /home/sebasmos/anaconda3/envs/QuantumDeep/lib/python3.8/site-packages (from tensorboard~=2.4->tensorflow==2.4.1) (1.8.0)\n",
      "Requirement already satisfied: tensorboard-data-server<0.7.0,>=0.6.0 in /home/sebasmos/anaconda3/envs/QuantumDeep/lib/python3.8/site-packages (from tensorboard~=2.4->tensorflow==2.4.1) (0.6.1)\n",
      "Requirement already satisfied: requests<3,>=2.21.0 in /home/sebasmos/.local/lib/python3.8/site-packages (from tensorboard~=2.4->tensorflow==2.4.1) (2.25.1)\n",
      "Requirement already satisfied: cachetools<5.0,>=2.0.0 in /home/sebasmos/.local/lib/python3.8/site-packages (from google-auth<2,>=1.6.3->tensorboard~=2.4->tensorflow==2.4.1) (4.2.1)\n",
      "Requirement already satisfied: pyasn1-modules>=0.2.1 in /home/sebasmos/.local/lib/python3.8/site-packages (from google-auth<2,>=1.6.3->tensorboard~=2.4->tensorflow==2.4.1) (0.2.8)\n",
      "Requirement already satisfied: rsa<5,>=3.1.4 in /home/sebasmos/.local/lib/python3.8/site-packages (from google-auth<2,>=1.6.3->tensorboard~=2.4->tensorflow==2.4.1) (4.7.2)\n",
      "Requirement already satisfied: requests-oauthlib>=0.7.0 in /home/sebasmos/.local/lib/python3.8/site-packages (from google-auth-oauthlib<0.5,>=0.4.1->tensorboard~=2.4->tensorflow==2.4.1) (1.3.0)\n",
      "Requirement already satisfied: pyasn1<0.5.0,>=0.4.6 in /home/sebasmos/.local/lib/python3.8/site-packages (from pyasn1-modules>=0.2.1->google-auth<2,>=1.6.3->tensorboard~=2.4->tensorflow==2.4.1) (0.4.8)\n",
      "Requirement already satisfied: urllib3<1.27,>=1.21.1 in /home/sebasmos/.local/lib/python3.8/site-packages (from requests<3,>=2.21.0->tensorboard~=2.4->tensorflow==2.4.1) (1.26.3)\n",
      "Requirement already satisfied: idna<3,>=2.5 in /home/sebasmos/.local/lib/python3.8/site-packages (from requests<3,>=2.21.0->tensorboard~=2.4->tensorflow==2.4.1) (2.10)\n",
      "Requirement already satisfied: chardet<5,>=3.0.2 in /home/sebasmos/.local/lib/python3.8/site-packages (from requests<3,>=2.21.0->tensorboard~=2.4->tensorflow==2.4.1) (4.0.0)\n",
      "Requirement already satisfied: certifi>=2017.4.17 in /home/sebasmos/.local/lib/python3.8/site-packages (from requests<3,>=2.21.0->tensorboard~=2.4->tensorflow==2.4.1) (2020.12.5)\n",
      "Requirement already satisfied: oauthlib>=3.0.0 in /home/sebasmos/.local/lib/python3.8/site-packages (from requests-oauthlib>=0.7.0->google-auth-oauthlib<0.5,>=0.4.1->tensorboard~=2.4->tensorflow==2.4.1) (3.1.0)\n"
     ]
    }
   ],
   "source": [
    "!pip install tensorflow==2.4.1"
   ]
  },
  {
   "cell_type": "code",
   "execution_count": 2,
   "id": "ready-authority",
   "metadata": {},
   "outputs": [
    {
     "name": "stdout",
     "output_type": "stream",
     "text": [
      "Requirement already satisfied: tensorflow-quantum in /home/sebasmos/anaconda3/envs/QuantumDeep/lib/python3.8/site-packages (0.5.1)\n",
      "Requirement already satisfied: sympy==1.5 in /home/sebasmos/anaconda3/envs/QuantumDeep/lib/python3.8/site-packages (from tensorflow-quantum) (1.5)\n",
      "Requirement already satisfied: google-auth==1.18.0 in /home/sebasmos/anaconda3/envs/QuantumDeep/lib/python3.8/site-packages (from tensorflow-quantum) (1.18.0)\n",
      "Requirement already satisfied: protobuf==3.13.0 in /home/sebasmos/anaconda3/envs/QuantumDeep/lib/python3.8/site-packages (from tensorflow-quantum) (3.13.0)\n",
      "Requirement already satisfied: cirq==0.11.0 in /home/sebasmos/anaconda3/envs/QuantumDeep/lib/python3.8/site-packages (from tensorflow-quantum) (0.11.0)\n",
      "Requirement already satisfied: googleapis-common-protos==1.52.0 in /home/sebasmos/anaconda3/envs/QuantumDeep/lib/python3.8/site-packages (from tensorflow-quantum) (1.52.0)\n",
      "Requirement already satisfied: google-api-core==1.21.0 in /home/sebasmos/anaconda3/envs/QuantumDeep/lib/python3.8/site-packages (from tensorflow-quantum) (1.21.0)\n",
      "Requirement already satisfied: cirq-google==0.11.0 in /home/sebasmos/anaconda3/envs/QuantumDeep/lib/python3.8/site-packages (from cirq==0.11.0->tensorflow-quantum) (0.11.0)\n",
      "Requirement already satisfied: cirq-core==0.11.0 in /home/sebasmos/anaconda3/envs/QuantumDeep/lib/python3.8/site-packages (from cirq==0.11.0->tensorflow-quantum) (0.11.0)\n",
      "Requirement already satisfied: pandas in /home/sebasmos/anaconda3/envs/QuantumDeep/lib/python3.8/site-packages (from cirq-core==0.11.0->cirq==0.11.0->tensorflow-quantum) (1.2.5)\n",
      "Requirement already satisfied: matplotlib~=3.0 in /home/sebasmos/anaconda3/envs/QuantumDeep/lib/python3.8/site-packages (from cirq-core==0.11.0->cirq==0.11.0->tensorflow-quantum) (3.3.4)\n",
      "Requirement already satisfied: numpy~=1.16 in /home/sebasmos/anaconda3/envs/QuantumDeep/lib/python3.8/site-packages (from cirq-core==0.11.0->cirq==0.11.0->tensorflow-quantum) (1.19.5)\n",
      "Requirement already satisfied: typing-extensions in /home/sebasmos/.local/lib/python3.8/site-packages (from cirq-core==0.11.0->cirq==0.11.0->tensorflow-quantum) (3.7.4.3)\n",
      "Requirement already satisfied: scipy in /home/sebasmos/anaconda3/envs/QuantumDeep/lib/python3.8/site-packages (from cirq-core==0.11.0->cirq==0.11.0->tensorflow-quantum) (1.7.0)\n",
      "Requirement already satisfied: sortedcontainers~=2.0 in /home/sebasmos/anaconda3/envs/QuantumDeep/lib/python3.8/site-packages (from cirq-core==0.11.0->cirq==0.11.0->tensorflow-quantum) (2.4.0)\n",
      "Requirement already satisfied: networkx~=2.4 in /home/sebasmos/anaconda3/envs/QuantumDeep/lib/python3.8/site-packages (from cirq-core==0.11.0->cirq==0.11.0->tensorflow-quantum) (2.5)\n",
      "Requirement already satisfied: tqdm in /home/sebasmos/.local/lib/python3.8/site-packages (from cirq-core==0.11.0->cirq==0.11.0->tensorflow-quantum) (4.58.0)\n",
      "Requirement already satisfied: requests~=2.18 in /home/sebasmos/.local/lib/python3.8/site-packages (from cirq-core==0.11.0->cirq==0.11.0->tensorflow-quantum) (2.25.1)\n",
      "Requirement already satisfied: setuptools>=34.0.0 in /home/sebasmos/.local/lib/python3.8/site-packages (from google-api-core==1.21.0->tensorflow-quantum) (53.0.0)\n",
      "Requirement already satisfied: pytz in /home/sebasmos/anaconda3/envs/QuantumDeep/lib/python3.8/site-packages (from google-api-core==1.21.0->tensorflow-quantum) (2021.1)\n",
      "Requirement already satisfied: six>=1.10.0 in /home/sebasmos/.local/lib/python3.8/site-packages (from google-api-core==1.21.0->tensorflow-quantum) (1.15.0)\n",
      "Requirement already satisfied: cachetools<5.0,>=2.0.0 in /home/sebasmos/.local/lib/python3.8/site-packages (from google-auth==1.18.0->tensorflow-quantum) (4.2.1)\n",
      "Requirement already satisfied: rsa<5,>=3.1.4 in /home/sebasmos/.local/lib/python3.8/site-packages (from google-auth==1.18.0->tensorflow-quantum) (4.7.2)\n",
      "Requirement already satisfied: pyasn1-modules>=0.2.1 in /home/sebasmos/.local/lib/python3.8/site-packages (from google-auth==1.18.0->tensorflow-quantum) (0.2.8)\n",
      "Requirement already satisfied: mpmath>=0.19 in /home/sebasmos/anaconda3/envs/QuantumDeep/lib/python3.8/site-packages (from sympy==1.5->tensorflow-quantum) (1.2.1)\n",
      "Requirement already satisfied: grpcio<2.0dev,>=1.29.0 in /home/sebasmos/.local/lib/python3.8/site-packages (from google-api-core==1.21.0->tensorflow-quantum) (1.32.0)\n",
      "Requirement already satisfied: python-dateutil>=2.1 in /home/sebasmos/anaconda3/envs/QuantumDeep/lib/python3.8/site-packages (from matplotlib~=3.0->cirq-core==0.11.0->cirq==0.11.0->tensorflow-quantum) (2.8.1)\n",
      "Requirement already satisfied: pillow>=6.2.0 in /home/sebasmos/anaconda3/envs/QuantumDeep/lib/python3.8/site-packages (from matplotlib~=3.0->cirq-core==0.11.0->cirq==0.11.0->tensorflow-quantum) (8.1.2)\n",
      "Requirement already satisfied: pyparsing!=2.0.4,!=2.1.2,!=2.1.6,>=2.0.3 in /home/sebasmos/anaconda3/envs/QuantumDeep/lib/python3.8/site-packages (from matplotlib~=3.0->cirq-core==0.11.0->cirq==0.11.0->tensorflow-quantum) (2.4.7)\n",
      "Requirement already satisfied: kiwisolver>=1.0.1 in /home/sebasmos/anaconda3/envs/QuantumDeep/lib/python3.8/site-packages (from matplotlib~=3.0->cirq-core==0.11.0->cirq==0.11.0->tensorflow-quantum) (1.3.1)\n",
      "Requirement already satisfied: cycler>=0.10 in /home/sebasmos/anaconda3/envs/QuantumDeep/lib/python3.8/site-packages (from matplotlib~=3.0->cirq-core==0.11.0->cirq==0.11.0->tensorflow-quantum) (0.10.0)\n",
      "Requirement already satisfied: decorator>=4.3.0 in /home/sebasmos/anaconda3/envs/QuantumDeep/lib/python3.8/site-packages (from networkx~=2.4->cirq-core==0.11.0->cirq==0.11.0->tensorflow-quantum) (4.4.2)\n",
      "Requirement already satisfied: pyasn1<0.5.0,>=0.4.6 in /home/sebasmos/.local/lib/python3.8/site-packages (from pyasn1-modules>=0.2.1->google-auth==1.18.0->tensorflow-quantum) (0.4.8)\n",
      "Requirement already satisfied: certifi>=2017.4.17 in /home/sebasmos/.local/lib/python3.8/site-packages (from requests~=2.18->cirq-core==0.11.0->cirq==0.11.0->tensorflow-quantum) (2020.12.5)\n",
      "Requirement already satisfied: chardet<5,>=3.0.2 in /home/sebasmos/.local/lib/python3.8/site-packages (from requests~=2.18->cirq-core==0.11.0->cirq==0.11.0->tensorflow-quantum) (4.0.0)\n",
      "Requirement already satisfied: urllib3<1.27,>=1.21.1 in /home/sebasmos/.local/lib/python3.8/site-packages (from requests~=2.18->cirq-core==0.11.0->cirq==0.11.0->tensorflow-quantum) (1.26.3)\n",
      "Requirement already satisfied: idna<3,>=2.5 in /home/sebasmos/.local/lib/python3.8/site-packages (from requests~=2.18->cirq-core==0.11.0->cirq==0.11.0->tensorflow-quantum) (2.10)\n"
     ]
    }
   ],
   "source": [
    "!pip install tensorflow-quantum"
   ]
  },
  {
   "cell_type": "code",
   "execution_count": 3,
   "id": "empirical-breed",
   "metadata": {},
   "outputs": [],
   "source": [
    "import tensorflow as tf\n",
    "import tensorflow_quantum as tfq\n",
    "\n",
    "import cirq\n",
    "import sympy\n",
    "import numpy as np\n",
    "\n",
    "# visualization tools\n",
    "%matplotlib inline\n",
    "import matplotlib.pyplot as plt\n",
    "from cirq.contrib.svg import SVGCircuit"
   ]
  },
  {
   "cell_type": "code",
   "execution_count": 4,
   "id": "helpful-introduction",
   "metadata": {},
   "outputs": [],
   "source": [
    "a, b = sympy.symbols('a b')"
   ]
  },
  {
   "cell_type": "code",
   "execution_count": 5,
   "id": "rubber-vampire",
   "metadata": {},
   "outputs": [
    {
     "name": "stderr",
     "output_type": "stream",
     "text": [
      "findfont: Font family ['Arial'] not found. Falling back to DejaVu Sans.\n"
     ]
    },
    {
     "data": {
      "image/svg+xml": [
       "<svg xmlns=\"http://www.w3.org/2000/svg\" width=\"234.4567578125\" height=\"100.0\"><line x1=\"34.7588671875\" x2=\"204.4567578125\" y1=\"25.0\" y2=\"25.0\" stroke=\"#1967d2\" stroke-width=\"1\" /><line x1=\"34.7588671875\" x2=\"204.4567578125\" y1=\"75.0\" y2=\"75.0\" stroke=\"#1967d2\" stroke-width=\"1\" /><line x1=\"164.4567578125\" x2=\"164.4567578125\" y1=\"25.0\" y2=\"75.0\" stroke=\"black\" stroke-width=\"3\" /><rect x=\"10.0\" y=\"5.0\" width=\"49.517734375\" height=\"40\" stroke=\"black\" fill=\"white\" stroke-width=\"0\" /><text x=\"34.7588671875\" y=\"25.0\" dominant-baseline=\"middle\" text-anchor=\"middle\" font-size=\"14px\" font-family=\"Arial\">(0, 0): </text><rect x=\"10.0\" y=\"55.0\" width=\"49.517734375\" height=\"40\" stroke=\"black\" fill=\"white\" stroke-width=\"0\" /><text x=\"34.7588671875\" y=\"75.0\" dominant-baseline=\"middle\" text-anchor=\"middle\" font-size=\"14px\" font-family=\"Arial\">(0, 1): </text><rect x=\"79.517734375\" y=\"5.0\" width=\"44.9390234375\" height=\"40\" stroke=\"black\" fill=\"white\" stroke-width=\"1\" /><text x=\"101.98724609375\" y=\"25.0\" dominant-baseline=\"middle\" text-anchor=\"middle\" font-size=\"14px\" font-family=\"Arial\">Rx(a)</text><rect x=\"79.517734375\" y=\"55.0\" width=\"44.9390234375\" height=\"40\" stroke=\"black\" fill=\"white\" stroke-width=\"1\" /><text x=\"101.98724609375\" y=\"75.0\" dominant-baseline=\"middle\" text-anchor=\"middle\" font-size=\"14px\" font-family=\"Arial\">Ry(b)</text><circle cx=\"164.4567578125\" cy=\"25.0\" r=\"10.0\" /><rect x=\"144.4567578125\" y=\"55.0\" width=\"40\" height=\"40\" stroke=\"black\" fill=\"white\" stroke-width=\"1\" /><text x=\"164.4567578125\" y=\"75.0\" dominant-baseline=\"middle\" text-anchor=\"middle\" font-size=\"18px\" font-family=\"Arial\">X</text></svg>"
      ],
      "text/plain": [
       "<cirq.contrib.svg.svg.SVGCircuit at 0x7f2fd607f580>"
      ]
     },
     "execution_count": 5,
     "metadata": {},
     "output_type": "execute_result"
    }
   ],
   "source": [
    "# Create two qubits\n",
    "q0, q1 = cirq.GridQubit.rect(1, 2)\n",
    "\n",
    "# Create a circuit on these qubits using the parameters you created above.\n",
    "circuit = cirq.Circuit(\n",
    "    cirq.rx(a).on(q0),\n",
    "    cirq.ry(b).on(q1), cirq.CNOT(control=q0, target=q1))\n",
    "\n",
    "SVGCircuit(circuit)"
   ]
  },
  {
   "cell_type": "code",
   "execution_count": 6,
   "id": "british-clerk",
   "metadata": {},
   "outputs": [
    {
     "data": {
      "text/plain": [
       "array([ 0.9387913 +0.j        , -0.23971277+0.j        ,\n",
       "        0.        +0.06120872j,  0.        -0.23971277j], dtype=complex64)"
      ]
     },
     "execution_count": 6,
     "metadata": {},
     "output_type": "execute_result"
    }
   ],
   "source": [
    "# Calculate a state vector with a=0.5 and b=-0.5.\n",
    "resolver = cirq.ParamResolver({a: 0.5, b: -0.5})\n",
    "output_state_vector = cirq.Simulator().simulate(circuit, resolver).final_state_vector\n",
    "output_state_vector"
   ]
  },
  {
   "cell_type": "code",
   "execution_count": 7,
   "id": "automated-patio",
   "metadata": {},
   "outputs": [
    {
     "data": {
      "text/plain": [
       "0.8775825500488281"
      ]
     },
     "execution_count": 7,
     "metadata": {},
     "output_type": "execute_result"
    }
   ],
   "source": [
    "z0 = cirq.Z(q0)\n",
    "\n",
    "qubit_map={q0: 0, q1: 1}\n",
    "\n",
    "z0.expectation_from_state_vector(output_state_vector, qubit_map).real\n"
   ]
  },
  {
   "cell_type": "code",
   "execution_count": 8,
   "id": "brief-adventure",
   "metadata": {},
   "outputs": [
    {
     "data": {
      "text/plain": [
       "-0.04063427448272705"
      ]
     },
     "execution_count": 8,
     "metadata": {},
     "output_type": "execute_result"
    }
   ],
   "source": [
    "z0x1 = 0.5 * z0 + cirq.X(q1)\n",
    "\n",
    "z0x1.expectation_from_state_vector(output_state_vector, qubit_map).real"
   ]
  },
  {
   "cell_type": "code",
   "execution_count": 9,
   "id": "disturbed-savings",
   "metadata": {},
   "outputs": [
    {
     "name": "stdout",
     "output_type": "stream",
     "text": [
      "(1,)\n",
      "<dtype: 'string'>\n"
     ]
    }
   ],
   "source": [
    "# Rank 1 tensor containing 1 circuit.\n",
    "circuit_tensor = tfq.convert_to_tensor([circuit])\n",
    "\n",
    "print(circuit_tensor.shape)\n",
    "print(circuit_tensor.dtype)"
   ]
  },
  {
   "cell_type": "code",
   "execution_count": 10,
   "id": "organized-calculation",
   "metadata": {},
   "outputs": [
    {
     "data": {
      "text/plain": [
       "TensorShape([2])"
      ]
     },
     "execution_count": 10,
     "metadata": {},
     "output_type": "execute_result"
    }
   ],
   "source": [
    "# Rank 1 tensor containing 2 Pauli operators.\n",
    "pauli_tensor = tfq.convert_to_tensor([z0, z0x1])\n",
    "pauli_tensor.shape"
   ]
  },
  {
   "cell_type": "code",
   "execution_count": 11,
   "id": "broke-telescope",
   "metadata": {},
   "outputs": [],
   "source": [
    "batch_vals = np.array(np.random.uniform(0, 2 * np.pi, (5, 2)), dtype=np.float32)"
   ]
  },
  {
   "cell_type": "code",
   "execution_count": 12,
   "id": "earned-bunny",
   "metadata": {},
   "outputs": [
    {
     "name": "stdout",
     "output_type": "stream",
     "text": [
      "cirq batch results: \n",
      " [[ 0.21694347]\n",
      " [-0.99640793]\n",
      " [-0.10101223]\n",
      " [ 0.99991703]\n",
      " [-0.94504678]]\n"
     ]
    }
   ],
   "source": [
    "cirq_results = []\n",
    "cirq_simulator = cirq.Simulator()\n",
    "\n",
    "for vals in batch_vals:\n",
    "    resolver = cirq.ParamResolver({a: vals[0], b: vals[1]})\n",
    "    final_state_vector = cirq_simulator.simulate(circuit, resolver).final_state_vector\n",
    "    cirq_results.append(\n",
    "        [z0.expectation_from_state_vector(final_state_vector, {\n",
    "            q0: 0,\n",
    "            q1: 1\n",
    "        }).real])\n",
    "\n",
    "print('cirq batch results: \\n {}'.format(np.array(cirq_results)))"
   ]
  },
  {
   "cell_type": "code",
   "execution_count": 13,
   "id": "revolutionary-irrigation",
   "metadata": {},
   "outputs": [
    {
     "data": {
      "text/plain": [
       "<tf.Tensor: shape=(5, 1), dtype=float32, numpy=\n",
       "array([[ 0.21694529],\n",
       "       [-0.9964079 ],\n",
       "       [-0.10101259],\n",
       "       [ 0.9999171 ],\n",
       "       [-0.9450465 ]], dtype=float32)>"
      ]
     },
     "execution_count": 13,
     "metadata": {},
     "output_type": "execute_result"
    }
   ],
   "source": [
    "tfq.layers.Expectation()(circuit,\n",
    "                         symbol_names=[a, b],\n",
    "                         symbol_values=batch_vals,\n",
    "                         operators=z0)"
   ]
  },
  {
   "cell_type": "markdown",
   "id": "preliminary-soccer",
   "metadata": {},
   "source": [
    "## Control circuit definition"
   ]
  },
  {
   "cell_type": "code",
   "execution_count": 14,
   "id": "collected-shopper",
   "metadata": {},
   "outputs": [
    {
     "data": {
      "image/svg+xml": [
       "<svg xmlns=\"http://www.w3.org/2000/svg\" width=\"435.74449218750004\" height=\"50.0\"><line x1=\"34.7588671875\" x2=\"405.74449218750004\" y1=\"25.0\" y2=\"25.0\" stroke=\"#1967d2\" stroke-width=\"1\" /><rect x=\"10.0\" y=\"5.0\" width=\"49.517734375\" height=\"40\" stroke=\"black\" fill=\"white\" stroke-width=\"0\" /><text x=\"34.7588671875\" y=\"25.0\" dominant-baseline=\"middle\" text-anchor=\"middle\" font-size=\"14px\" font-family=\"Arial\">(0, 0): </text><rect x=\"79.517734375\" y=\"5.0\" width=\"88.37457031250001\" height=\"40\" stroke=\"black\" fill=\"white\" stroke-width=\"1\" /><text x=\"123.70501953125\" y=\"25.0\" dominant-baseline=\"middle\" text-anchor=\"middle\" font-size=\"14px\" font-family=\"Arial\">Rz(theta_1)</text><rect x=\"187.89230468750003\" y=\"5.0\" width=\"88.54109375\" height=\"40\" stroke=\"black\" fill=\"white\" stroke-width=\"1\" /><text x=\"232.16285156250004\" y=\"25.0\" dominant-baseline=\"middle\" text-anchor=\"middle\" font-size=\"14px\" font-family=\"Arial\">Ry(theta_2)</text><rect x=\"296.43339843750005\" y=\"5.0\" width=\"89.31109375000001\" height=\"40\" stroke=\"black\" fill=\"white\" stroke-width=\"1\" /><text x=\"341.0889453125001\" y=\"25.0\" dominant-baseline=\"middle\" text-anchor=\"middle\" font-size=\"14px\" font-family=\"Arial\">Rx(theta_3)</text></svg>"
      ],
      "text/plain": [
       "<cirq.contrib.svg.svg.SVGCircuit at 0x7f2fb02d5ee0>"
      ]
     },
     "execution_count": 14,
     "metadata": {},
     "output_type": "execute_result"
    }
   ],
   "source": [
    "# Parameters that the classical NN will feed values into.\n",
    "control_params = sympy.symbols('theta_1 theta_2 theta_3')\n",
    "\n",
    "# Create the parameterized circuit.\n",
    "qubit = cirq.GridQubit(0, 0)\n",
    "model_circuit = cirq.Circuit(\n",
    "    cirq.rz(control_params[0])(qubit),\n",
    "    cirq.ry(control_params[1])(qubit),\n",
    "    cirq.rx(control_params[2])(qubit))\n",
    "\n",
    "SVGCircuit(model_circuit)"
   ]
  },
  {
   "cell_type": "code",
   "execution_count": 15,
   "id": "binding-attempt",
   "metadata": {},
   "outputs": [],
   "source": [
    "# The classical neural network layers.\n",
    "controller = tf.keras.Sequential([\n",
    "    tf.keras.layers.Dense(10, activation='elu'),\n",
    "    tf.keras.layers.Dense(3)\n",
    "])"
   ]
  },
  {
   "cell_type": "code",
   "execution_count": 16,
   "id": "hungry-governor",
   "metadata": {},
   "outputs": [
    {
     "data": {
      "text/plain": [
       "array([[ 0.        ,  0.        ,  0.        ],\n",
       "       [-0.2066036 ,  0.27419376,  0.38624534]], dtype=float32)"
      ]
     },
     "execution_count": 16,
     "metadata": {},
     "output_type": "execute_result"
    }
   ],
   "source": [
    "controller(tf.constant([[0.0],[1.0]])).numpy()"
   ]
  },
  {
   "cell_type": "code",
   "execution_count": 17,
   "id": "backed-hanging",
   "metadata": {},
   "outputs": [],
   "source": [
    "# This input is the simulated miscalibration that the model will learn to correct.\n",
    "circuits_input = tf.keras.Input(shape=(),\n",
    "                                # The circuit-tensor has dtype `tf.string` \n",
    "                                dtype=tf.string,\n",
    "                                name='circuits_input')\n",
    "\n",
    "# Commands will be either `0` or `1`, specifying the state to set the qubit to.\n",
    "commands_input = tf.keras.Input(shape=(1,),\n",
    "                                dtype=tf.dtypes.float32,\n",
    "                                name='commands_input')"
   ]
  },
  {
   "cell_type": "code",
   "execution_count": 18,
   "id": "headed-minimum",
   "metadata": {},
   "outputs": [],
   "source": [
    "dense_2 = controller(commands_input)\n",
    "\n",
    "# TFQ layer for classically controlled circuits.\n",
    "expectation_layer = tfq.layers.ControlledPQC(model_circuit,\n",
    "                                             # Observe Z\n",
    "                                             operators = cirq.Z(qubit))\n",
    "expectation = expectation_layer([circuits_input, dense_2])"
   ]
  },
  {
   "cell_type": "code",
   "execution_count": 19,
   "id": "sunrise-triangle",
   "metadata": {},
   "outputs": [],
   "source": [
    "# The full Keras model is built from our layers.\n",
    "model = tf.keras.Model(inputs=[circuits_input, commands_input],\n",
    "                       outputs=expectation)"
   ]
  },
  {
   "cell_type": "code",
   "execution_count": 20,
   "id": "sunset-tuning",
   "metadata": {},
   "outputs": [
    {
     "name": "stdout",
     "output_type": "stream",
     "text": [
      "Requirement already satisfied: pydot in /home/sebasmos/anaconda3/envs/QuantumDeep/lib/python3.8/site-packages (1.4.2)\n",
      "Requirement already satisfied: pyparsing>=2.1.4 in /home/sebasmos/anaconda3/envs/QuantumDeep/lib/python3.8/site-packages (from pydot) (2.4.7)\n",
      "Requirement already satisfied: pydotplus in /home/sebasmos/anaconda3/envs/QuantumDeep/lib/python3.8/site-packages (2.0.2)\n",
      "Requirement already satisfied: pyparsing>=2.0.1 in /home/sebasmos/anaconda3/envs/QuantumDeep/lib/python3.8/site-packages (from pydotplus) (2.4.7)\n",
      "Requirement already satisfied: graphviz in /home/sebasmos/anaconda3/envs/QuantumDeep/lib/python3.8/site-packages (0.16)\n"
     ]
    },
    {
     "data": {
      "image/png": "[encoded data removed]",
      "text/plain": [
       "<IPython.core.display.Image object>"
      ]
     },
     "execution_count": 20,
     "metadata": {},
     "output_type": "execute_result"
    }
   ],
   "source": [
    "#https://stackoverflow.com/questions/47605558/importerror-failed-to-import-pydot-you-must-install-pydot-and-graphviz-for-py\n",
    "!pip install pydot\n",
    "!pip install pydotplus\n",
    "!pip install graphviz\n",
    "tf.keras.utils.plot_model(model, show_shapes=True, dpi=70)"
   ]
  },
  {
   "cell_type": "code",
   "execution_count": 21,
   "id": "hollywood-chile",
   "metadata": {},
   "outputs": [],
   "source": [
    "# The command input values to the classical NN.\n",
    "commands = np.array([[0], [1]], dtype=np.float32)\n",
    "\n",
    "# The desired Z expectation value at output of quantum circuit.\n",
    "expected_outputs = np.array([[1], [-1]], dtype=np.float32)"
   ]
  },
  {
   "cell_type": "code",
   "execution_count": 22,
   "id": "copyrighted-payday",
   "metadata": {},
   "outputs": [],
   "source": [
    "random_rotations = np.random.uniform(0, 2 * np.pi, 3)\n",
    "noisy_preparation = cirq.Circuit(\n",
    "  cirq.rx(random_rotations[0])(qubit),\n",
    "  cirq.ry(random_rotations[1])(qubit),\n",
    "  cirq.rz(random_rotations[2])(qubit)\n",
    ")\n",
    "datapoint_circuits = tfq.convert_to_tensor([\n",
    "  noisy_preparation\n",
    "] * 2)  # Make two copied of this circuit"
   ]
  },
  {
   "cell_type": "code",
   "execution_count": 23,
   "id": "effective-truth",
   "metadata": {},
   "outputs": [
    {
     "data": {
      "text/plain": [
       "TensorShape([2])"
      ]
     },
     "execution_count": 23,
     "metadata": {},
     "output_type": "execute_result"
    }
   ],
   "source": [
    "datapoint_circuits.shape"
   ]
  },
  {
   "cell_type": "code",
   "execution_count": 24,
   "id": "given-tissue",
   "metadata": {},
   "outputs": [
    {
     "data": {
      "text/plain": [
       "array([[-0.13776001],\n",
       "       [-0.41155192]], dtype=float32)"
      ]
     },
     "execution_count": 24,
     "metadata": {},
     "output_type": "execute_result"
    }
   ],
   "source": [
    "model([datapoint_circuits, commands]).numpy()"
   ]
  },
  {
   "cell_type": "code",
   "execution_count": 25,
   "id": "small-bottom",
   "metadata": {},
   "outputs": [],
   "source": [
    "optimizer = tf.keras.optimizers.Adam(learning_rate=0.05)\n",
    "loss = tf.keras.losses.MeanSquaredError()\n",
    "model.compile(optimizer=optimizer, loss=loss)\n",
    "history = model.fit(x=[datapoint_circuits, commands],\n",
    "                    y=expected_outputs,\n",
    "                    epochs=30,\n",
    "                    verbose=0)"
   ]
  },
  {
   "cell_type": "code",
   "execution_count": 26,
   "id": "least-pillow",
   "metadata": {},
   "outputs": [
    {
     "data": {
      "image/png": "[encoded data removed]",
      "text/plain": [
       "<Figure size 432x288 with 1 Axes>"
      ]
     },
     "metadata": {
      "needs_background": "light"
     },
     "output_type": "display_data"
    }
   ],
   "source": [
    "plt.plot(history.history['loss'])\n",
    "plt.title(\"Learning to Control a Qubit\")\n",
    "plt.xlabel(\"Iterations\")\n",
    "plt.ylabel(\"Error in Control\")\n",
    "plt.show()"
   ]
  },
  {
   "cell_type": "code",
   "execution_count": 27,
   "id": "spread-correlation",
   "metadata": {},
   "outputs": [
    {
     "name": "stdout",
     "output_type": "stream",
     "text": [
      "For a desired output (expectation) of [1.] with noisy preparation, the controller\n",
      "network found the following values for theta: [ 0.11867148 -1.5644112  -0.00191106]\n",
      "Which gives an actual expectation of: 0.9668033719062805\n",
      "\n",
      "For a desired output (expectation) of [-1.] with noisy preparation, the controller\n",
      "network found the following values for theta: [-2.2020602  2.0926158  2.28853  ]\n",
      "Which gives an actual expectation of: -0.975149393081665\n",
      "\n"
     ]
    }
   ],
   "source": [
    "def check_error(command_values, desired_values):\n",
    "  \"\"\"Based on the value in `command_value` see how well you could prepare\n",
    "  the full circuit to have `desired_value` when taking expectation w.r.t. Z.\"\"\"\n",
    "  params_to_prepare_output = controller(command_values).numpy()\n",
    "  full_circuit = noisy_preparation + model_circuit\n",
    "\n",
    "  # Test how well you can prepare a state to get expectation the expectation\n",
    "  # value in `desired_values`\n",
    "  for index in [0, 1]:\n",
    "    state = cirq_simulator.simulate(\n",
    "        full_circuit,\n",
    "        {s:v for (s,v) in zip(control_params, params_to_prepare_output[index])}\n",
    "    ).final_state_vector\n",
    "    expt = cirq.Z(qubit).expectation_from_state_vector(state, {qubit: 0}).real\n",
    "    print(f'For a desired output (expectation) of {desired_values[index]} with'\n",
    "          f' noisy preparation, the controller\\nnetwork found the following '\n",
    "          f'values for theta: {params_to_prepare_output[index]}\\nWhich gives an'\n",
    "          f' actual expectation of: {expt}\\n')\n",
    "\n",
    "\n",
    "check_error(commands, expected_outputs)"
   ]
  },
  {
   "cell_type": "code",
   "execution_count": 28,
   "id": "identical-drama",
   "metadata": {},
   "outputs": [
    {
     "data": {
      "text/plain": [
       "<tf.Tensor: shape=(2, 1), dtype=float32, numpy=\n",
       "array([[ 0.96680325],\n",
       "       [-0.9751492 ]], dtype=float32)>"
      ]
     },
     "execution_count": 28,
     "metadata": {},
     "output_type": "execute_result"
    }
   ],
   "source": [
    "model([datapoint_circuits, commands])"
   ]
  },
  {
   "cell_type": "markdown",
   "id": "isolated-cleanup",
   "metadata": {},
   "source": [
    "## Learning to prepare eigenstates of different operators"
   ]
  },
  {
   "cell_type": "code",
   "execution_count": 29,
   "id": "dominant-gravity",
   "metadata": {},
   "outputs": [],
   "source": [
    "# Define inputs.\n",
    "commands_input = tf.keras.layers.Input(shape=(1),\n",
    "                                       dtype=tf.dtypes.float32,\n",
    "                                       name='commands_input')\n",
    "circuits_input = tf.keras.Input(shape=(),\n",
    "                                # The circuit-tensor has dtype `tf.string` \n",
    "                                dtype=tf.dtypes.string,\n",
    "                                name='circuits_input')\n",
    "operators_input = tf.keras.Input(shape=(1,),\n",
    "                                 dtype=tf.dtypes.string,\n",
    "                                 name='operators_input')"
   ]
  },
  {
   "cell_type": "code",
   "execution_count": 30,
   "id": "opponent-acrobat",
   "metadata": {},
   "outputs": [],
   "source": [
    "# Define classical NN.\n",
    "controller = tf.keras.Sequential([\n",
    "    tf.keras.layers.Dense(10, activation='elu'),\n",
    "    tf.keras.layers.Dense(3)\n",
    "])"
   ]
  },
  {
   "cell_type": "code",
   "execution_count": 31,
   "id": "bulgarian-heart",
   "metadata": {},
   "outputs": [],
   "source": [
    "dense_2 = controller(commands_input)\n",
    "\n",
    "# Since you aren't using a PQC or ControlledPQC you must append\n",
    "# your model circuit onto the datapoint circuit tensor manually.\n",
    "full_circuit = tfq.layers.AddCircuit()(circuits_input, append=model_circuit)\n",
    "expectation_output = tfq.layers.Expectation()(full_circuit,\n",
    "                                              symbol_names=control_params,\n",
    "                                              symbol_values=dense_2,\n",
    "                                              operators=operators_input)\n",
    "\n",
    "# Contruct your Keras model.\n",
    "two_axis_control_model = tf.keras.Model(\n",
    "    inputs=[circuits_input, commands_input, operators_input],\n",
    "    outputs=[expectation_output])"
   ]
  },
  {
   "cell_type": "code",
   "execution_count": 32,
   "id": "healthy-purpose",
   "metadata": {},
   "outputs": [],
   "source": [
    "# The operators to measure, for each command.\n",
    "operator_data = tfq.convert_to_tensor([[cirq.X(qubit)], [cirq.Z(qubit)]])\n",
    "\n",
    "# The command input values to the classical NN.\n",
    "commands = np.array([[0], [1]], dtype=np.float32)\n",
    "\n",
    "# The desired expectation value at output of quantum circuit.\n",
    "expected_outputs = np.array([[1], [-1]], dtype=np.float32)"
   ]
  },
  {
   "cell_type": "code",
   "execution_count": 34,
   "id": "continental-elevation",
   "metadata": {},
   "outputs": [
    {
     "name": "stdout",
     "output_type": "stream",
     "text": [
      "Epoch 1/30\n",
      "1/1 - 1s - loss: 1.1069e-04 - val_loss: 8.0502e-04\n",
      "Epoch 2/30\n",
      "1/1 - 0s - loss: 4.2308e-04 - val_loss: 1.9077e-04\n",
      "Epoch 3/30\n",
      "1/1 - 0s - loss: 1.1948e-06 - val_loss: 5.8937e-05\n",
      "Epoch 4/30\n",
      "1/1 - 0s - loss: 7.2263e-06 - val_loss: 3.5041e-05\n",
      "Epoch 5/30\n",
      "1/1 - 0s - loss: 1.6359e-04 - val_loss: 2.7922e-05\n",
      "Epoch 6/30\n",
      "1/1 - 0s - loss: 1.1799e-04 - val_loss: 2.1361e-05\n",
      "Epoch 7/30\n",
      "1/1 - 0s - loss: 1.2826e-05 - val_loss: 1.7886e-05\n",
      "Epoch 8/30\n",
      "1/1 - 0s - loss: 7.4491e-08 - val_loss: 1.7473e-05\n",
      "Epoch 9/30\n",
      "1/1 - 0s - loss: 4.0417e-07 - val_loss: 2.0003e-05\n",
      "Epoch 10/30\n",
      "1/1 - 0s - loss: 1.1064e-05 - val_loss: 2.9844e-05\n",
      "Epoch 11/30\n",
      "1/1 - 0s - loss: 4.2747e-05 - val_loss: 6.7447e-05\n",
      "Epoch 12/30\n",
      "1/1 - 0s - loss: 5.5500e-05 - val_loss: 1.8126e-04\n",
      "Epoch 13/30\n",
      "1/1 - 0s - loss: 3.0733e-05 - val_loss: 4.3728e-04\n",
      "Epoch 14/30\n",
      "1/1 - 0s - loss: 8.5419e-06 - val_loss: 8.7932e-04\n",
      "Epoch 15/30\n",
      "1/1 - 0s - loss: 1.1302e-06 - val_loss: 0.0015\n",
      "Epoch 16/30\n",
      "1/1 - 0s - loss: 3.5972e-08 - val_loss: 0.0023\n",
      "Epoch 17/30\n",
      "1/1 - 0s - loss: 6.0689e-09 - val_loss: 0.0033\n",
      "Epoch 18/30\n",
      "1/1 - 0s - loss: 2.4569e-07 - val_loss: 0.0044\n",
      "Epoch 19/30\n",
      "1/1 - 0s - loss: 1.5687e-06 - val_loss: 0.0056\n",
      "Epoch 20/30\n",
      "1/1 - 0s - loss: 4.5571e-06 - val_loss: 0.0069\n",
      "Epoch 21/30\n",
      "1/1 - 0s - loss: 8.2374e-06 - val_loss: 0.0081\n",
      "Epoch 22/30\n",
      "1/1 - 0s - loss: 1.0230e-05 - val_loss: 0.0093\n",
      "Epoch 23/30\n",
      "1/1 - 0s - loss: 9.1474e-06 - val_loss: 0.0106\n",
      "Epoch 24/30\n",
      "1/1 - 0s - loss: 6.1269e-06 - val_loss: 0.0118\n",
      "Epoch 25/30\n",
      "1/1 - 0s - loss: 3.1902e-06 - val_loss: 0.0129\n",
      "Epoch 26/30\n",
      "1/1 - 0s - loss: 1.3234e-06 - val_loss: 0.0141\n",
      "Epoch 27/30\n",
      "1/1 - 0s - loss: 4.3828e-07 - val_loss: 0.0153\n",
      "Epoch 28/30\n",
      "1/1 - 0s - loss: 1.1422e-07 - val_loss: 0.0164\n",
      "Epoch 29/30\n",
      "1/1 - 0s - loss: 2.5024e-08 - val_loss: 0.0175\n",
      "Epoch 30/30\n",
      "1/1 - 0s - loss: 8.7906e-09 - val_loss: 0.0186\n"
     ]
    }
   ],
   "source": [
    "optimizer = tf.keras.optimizers.Adam(learning_rate=0.05)\n",
    "loss = tf.keras.losses.MeanSquaredError()\n",
    "\n",
    "two_axis_control_model.compile(optimizer=optimizer, loss=loss)\n",
    "\n",
    "history = two_axis_control_model.fit(\n",
    "    x=[datapoint_circuits, commands, operator_data],\n",
    "    y=expected_outputs,\n",
    "    epochs=30,\n",
    "    validation_split=0.2,\n",
    "    verbose=2)"
   ]
  },
  {
   "cell_type": "code",
   "execution_count": 35,
   "id": "early-floor",
   "metadata": {},
   "outputs": [
    {
     "data": {
      "image/png": "[encoded data removed]",
      "text/plain": [
       "<Figure size 432x288 with 1 Axes>"
      ]
     },
     "metadata": {
      "needs_background": "light"
     },
     "output_type": "display_data"
    }
   ],
   "source": [
    "plt.plot(history.history['loss'])\n",
    "plt.title(\"Learning to Control a Qubit\")\n",
    "plt.xlabel(\"Iterations\")\n",
    "plt.ylabel(\"Error in Control\")\n",
    "plt.show()"
   ]
  },
  {
   "cell_type": "code",
   "execution_count": 36,
   "id": "virgin-sapphire",
   "metadata": {},
   "outputs": [
    {
     "data": {
      "text/plain": [
       "array([[-0.10500949, -0.1273543 , -0.2786051 ],\n",
       "       [-0.00851865,  0.98665285, -0.3910666 ]], dtype=float32)"
      ]
     },
     "execution_count": 36,
     "metadata": {},
     "output_type": "execute_result"
    }
   ],
   "source": [
    "controller.predict(np.array([0,1]))"
   ]
  },
  {
   "cell_type": "markdown",
   "id": "cooked-credits",
   "metadata": {},
   "source": [
    "## Model 2"
   ]
  },
  {
   "cell_type": "code",
   "execution_count": 41,
   "id": "seven-toner",
   "metadata": {},
   "outputs": [
    {
     "name": "stdout",
     "output_type": "stream",
     "text": [
      "Epoch 1/30\n",
      "1/1 - 1s - loss: 1.9399e-04 - val_loss: 0.8768\n",
      "Epoch 2/30\n",
      "1/1 - 0s - loss: 2.3625e-05 - val_loss: 0.9556\n",
      "Epoch 3/30\n",
      "1/1 - 0s - loss: 1.2989e-06 - val_loss: 1.0207\n",
      "Epoch 4/30\n",
      "1/1 - 0s - loss: 1.7859e-07 - val_loss: 1.0757\n",
      "Epoch 5/30\n",
      "1/1 - 0s - loss: 1.6259e-06 - val_loss: 1.1226\n",
      "Epoch 6/30\n",
      "1/1 - 0s - loss: 8.4481e-06 - val_loss: 1.1609\n",
      "Epoch 7/30\n",
      "1/1 - 0s - loss: 2.1183e-05 - val_loss: 1.1879\n",
      "Epoch 8/30\n",
      "1/1 - 0s - loss: 3.1892e-05 - val_loss: 1.2018\n",
      "Epoch 9/30\n",
      "1/1 - 0s - loss: 3.2485e-05 - val_loss: 1.2037\n",
      "Epoch 10/30\n",
      "1/1 - 0s - loss: 2.4426e-05 - val_loss: 1.1963\n",
      "Epoch 11/30\n",
      "1/1 - 0s - loss: 1.4469e-05 - val_loss: 1.1831\n",
      "Epoch 12/30\n",
      "1/1 - 0s - loss: 7.1279e-06 - val_loss: 1.1670\n",
      "Epoch 13/30\n",
      "1/1 - 0s - loss: 3.1041e-06 - val_loss: 1.1501\n",
      "Epoch 14/30\n",
      "1/1 - 0s - loss: 1.3216e-06 - val_loss: 1.1335\n",
      "Epoch 15/30\n",
      "1/1 - 0s - loss: 6.6652e-07 - val_loss: 1.1177\n",
      "Epoch 16/30\n",
      "1/1 - 0s - loss: 5.0632e-07 - val_loss: 1.1028\n",
      "Epoch 17/30\n",
      "1/1 - 0s - loss: 6.0856e-07 - val_loss: 1.0890\n",
      "Epoch 18/30\n",
      "1/1 - 0s - loss: 9.3664e-07 - val_loss: 1.0760\n",
      "Epoch 19/30\n",
      "1/1 - 0s - loss: 1.4951e-06 - val_loss: 1.0639\n",
      "Epoch 20/30\n",
      "1/1 - 0s - loss: 2.2284e-06 - val_loss: 1.0528\n",
      "Epoch 21/30\n",
      "1/1 - 0s - loss: 2.9810e-06 - val_loss: 1.0427\n",
      "Epoch 22/30\n",
      "1/1 - 0s - loss: 3.5422e-06 - val_loss: 1.0338\n",
      "Epoch 23/30\n",
      "1/1 - 0s - loss: 3.7346e-06 - val_loss: 1.0261\n",
      "Epoch 24/30\n",
      "1/1 - 0s - loss: 3.5140e-06 - val_loss: 1.0199\n",
      "Epoch 25/30\n",
      "1/1 - 0s - loss: 2.9763e-06 - val_loss: 1.0148\n",
      "Epoch 26/30\n",
      "1/1 - 0s - loss: 2.2950e-06 - val_loss: 1.0110\n",
      "Epoch 27/30\n",
      "1/1 - 0s - loss: 1.6331e-06 - val_loss: 1.0081\n",
      "Epoch 28/30\n",
      "1/1 - 0s - loss: 1.0873e-06 - val_loss: 1.0061\n",
      "Epoch 29/30\n",
      "1/1 - 0s - loss: 6.8988e-07 - val_loss: 1.0047\n",
      "Epoch 30/30\n",
      "1/1 - 0s - loss: 4.2520e-07 - val_loss: 1.0039\n"
     ]
    }
   ],
   "source": [
    "# Define inputs.\n",
    "commands_input = tf.keras.layers.Input(shape=(1),\n",
    "                                       dtype=tf.dtypes.float32,\n",
    "                                       name='commands_input')\n",
    "circuits_input = tf.keras.Input(shape=(),\n",
    "                                # The circuit-tensor has dtype `tf.string` \n",
    "                                dtype=tf.dtypes.string,\n",
    "                                name='circuits_input')\n",
    "operators_input = tf.keras.Input(shape=(1,),\n",
    "                                 dtype=tf.dtypes.string,\n",
    "                                 name='operators_input')\n",
    "\n",
    "# Define classical NN.\n",
    "controller = tf.keras.Sequential([\n",
    "    tf.keras.layers.Dense(100, activation='relu'),\n",
    "    tf.keras.layers.Dense(200, activation='relu'),\n",
    "    tf.keras.layers.Dense(2000, activation='relu'),\n",
    "    tf.keras.layers.Dense(3)\n",
    "])\n",
    "\n",
    "dense_2 = controller(commands_input)\n",
    "\n",
    "# Since you aren't using a PQC or ControlledPQC you must append\n",
    "# your model circuit onto the datapoint circuit tensor manually.\n",
    "full_circuit = tfq.layers.AddCircuit()(circuits_input, append=model_circuit)\n",
    "expectation_output = tfq.layers.Expectation()(full_circuit,\n",
    "                                              symbol_names=control_params,\n",
    "                                              symbol_values=dense_2,\n",
    "                                              operators=operators_input)\n",
    "\n",
    "# Contruct your Keras model.\n",
    "two_axis_control_model = tf.keras.Model(\n",
    "    inputs=[circuits_input, commands_input, operators_input],\n",
    "    outputs=[expectation_output])\n",
    "\n",
    "# The operators to measure, for each command.\n",
    "operator_data = tfq.convert_to_tensor([[cirq.X(qubit)], [cirq.Z(qubit)]])\n",
    "\n",
    "# The command input values to the classical NN.\n",
    "commands = np.array([[0], [1]], dtype=np.float32)\n",
    "\n",
    "# The desired expectation value at output of quantum circuit.\n",
    "expected_outputs = np.array([[1], [-1]], dtype=np.float32)\n",
    "\n",
    "optimizer = tf.keras.optimizers.Adam(learning_rate=0.05)\n",
    "loss = tf.keras.losses.MeanSquaredError()\n",
    "\n",
    "two_axis_control_model.compile(optimizer=optimizer, loss=loss)\n",
    "\n",
    "history = two_axis_control_model.fit(\n",
    "    x=[datapoint_circuits, commands, operator_data],\n",
    "    y=expected_outputs,\n",
    "    epochs=30,\n",
    "    validation_split=0.2,\n",
    "    verbose=2)"
   ]
  },
  {
   "cell_type": "code",
   "execution_count": 43,
   "id": "spatial-cookbook",
   "metadata": {},
   "outputs": [
    {
     "data": {
      "image/png": "[encoded data removed]",
      "text/plain": [
       "<Figure size 432x288 with 1 Axes>"
      ]
     },
     "metadata": {
      "needs_background": "light"
     },
     "output_type": "display_data"
    },
    {
     "data": {
      "text/plain": [
       "array([[-0.07127561, -0.11574811, -0.00866337],\n",
       "       [-0.04678178, -0.14110886, -0.01753507]], dtype=float32)"
      ]
     },
     "execution_count": 43,
     "metadata": {},
     "output_type": "execute_result"
    }
   ],
   "source": [
    "plt.plot(history.history['loss'])\n",
    "plt.title(\"Learning to Control a Qubit\")\n",
    "plt.xlabel(\"Iterations\")\n",
    "plt.ylabel(\"Error in Control\")\n",
    "plt.show()\n",
    "\n",
    "controller.predict(np.array([0,1]))"
   ]
  }
 ],
 "metadata": {
  "kernelspec": {
   "display_name": "Python 3.8.8 64-bit ('QuantumDeep': conda)",
   "language": "python",
   "name": "python388jvsc74a57bd0a02314ebe1f780f8d92a149046fe34e85d23e29a7bac9b5ca57eb7c32c8b4e4f"
  },
  "language_info": {
   "codemirror_mode": {
    "name": "ipython",
    "version": 3
   },
   "file_extension": ".py",
   "mimetype": "text/x-python",
   "name": "python",
   "nbconvert_exporter": "python",
   "pygments_lexer": "ipython3",
   "version": "3.8.8"
  }
 },
 "nbformat": 4,
 "nbformat_minor": 5
}
